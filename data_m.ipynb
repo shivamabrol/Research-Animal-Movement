{
 "cells": [
  {
   "cell_type": "code",
   "execution_count": 3,
   "metadata": {},
   "outputs": [],
   "source": [
    "import pandas as pd\n",
    "import numpy as np\n",
    "import utm"
   ]
  },
  {
   "cell_type": "code",
   "execution_count": 31,
   "metadata": {},
   "outputs": [],
   "source": [
    "### We need UTM coordinates for each point \n",
    "### We need date information for clustering the points\n",
    "### 3 datasets need to be loaded dynamically\n",
    "\n",
    "def data_preprocessing(df, column ='location-lat' ,slice_size = 25):\n",
    "    \n",
    "    df = df[df[column] > 0]\n",
    "    df[['UTM_lat', 'UTM_lon', 'zone_number', 'zone_letter']] = df.apply(lambda row: utm.from_latlon(row['location-lat'], row['location-long']), axis=1, result_type='expand')\n",
    "    df['timestamp'] = pd.to_datetime(df['timestamp'], format='%Y-%m-%d')\n",
    "    df['date_string'] = df['timestamp'].dt.strftime('%Y-%m-%d')\n",
    "    return df"
   ]
  },
  {
   "cell_type": "code",
   "execution_count": null,
   "metadata": {},
   "outputs": [],
   "source": []
  },
  {
   "cell_type": "code",
   "execution_count": 17,
   "metadata": {},
   "outputs": [],
   "source": [
    "df_processed = []\n",
    "for animal in df_list:\n",
    "    df_processed.append(animal[animal['utm-easting'] > 0])"
   ]
  },
  {
   "cell_type": "code",
   "execution_count": 18,
   "metadata": {},
   "outputs": [
    {
     "name": "stdout",
     "output_type": "stream",
     "text": [
      "38739\n",
      "17040\n",
      "27602\n",
      "146285\n",
      "36274\n",
      "11847\n",
      "29033\n",
      "13698\n",
      "30431\n",
      "24897\n",
      "36650\n",
      "30314\n",
      "20749\n",
      "35249\n"
     ]
    }
   ],
   "source": [
    "for item in df_processed:\n",
    "    print(len(item))"
   ]
  },
  {
   "cell_type": "code",
   "execution_count": 26,
   "metadata": {},
   "outputs": [],
   "source": [
    "names = []\n",
    "for item in df_processed:\n",
    "    names.append(pd.unique(item['individual-local-identifier'])[0])"
   ]
  },
  {
   "cell_type": "code",
   "execution_count": 28,
   "metadata": {},
   "outputs": [],
   "source": [
    "for item in df_processed:\n",
    "    item.to_csv((pd.unique(item['individual-local-identifier'])[0]))"
   ]
  },
  {
   "cell_type": "code",
   "execution_count": 34,
   "metadata": {},
   "outputs": [
    {
     "name": "stderr",
     "output_type": "stream",
     "text": [
      "/var/folders/2z/k0vctg855l3dq626nd2hf5j40000gn/T/ipykernel_5837/1162969199.py:1: DtypeWarning: Columns (7,9,18,32,37,46) have mixed types. Specify dtype option on import or set low_memory=False.\n",
      "  df_arb = pd.read_csv('data/Dead-Reckoning Arboreal Species in BCI.csv')\n"
     ]
    }
   ],
   "source": [
    "df_arb = pd.read_csv('data/Dead-Reckoning Arboreal Species in BCI.csv')"
   ]
  },
  {
   "cell_type": "code",
   "execution_count": 40,
   "metadata": {},
   "outputs": [],
   "source": [
    "df_processed = df_arb[df_arb[\n",
    "    'utm-easting'\n",
    "] > 0]"
   ]
  },
  {
   "cell_type": "code",
   "execution_count": null,
   "metadata": {},
   "outputs": [],
   "source": [
    "df_processed.to_csv('data/Dead-Reackoning-Processed.csv')"
   ]
  },
  {
   "cell_type": "code",
   "execution_count": null,
   "metadata": {},
   "outputs": [],
   "source": [
    "import csv\n",
    "\n",
    "with open('data/Dead-Reckoning Arboreal Species in BCI.csv', 'r') as input_file:\n",
    "    with open('output.tsv', 'w', newline='') as output_file:\n",
    "        csv_reader = csv.reader(input_file)\n",
    "        tsv_writer = csv.writer(output_file, delimiter='\\t')\n",
    "\n",
    "        for row in csv_reader:\n",
    "            tsv_writer.writerow(row)"
   ]
  },
  {
   "cell_type": "code",
   "execution_count": 24,
   "metadata": {},
   "outputs": [],
   "source": [
    "df = pd.read_csv('../d3fc-own/data2.tsv', sep='\\t')"
   ]
  },
  {
   "cell_type": "code",
   "execution_count": 48,
   "metadata": {},
   "outputs": [
    {
     "data": {
      "text/plain": [
       "array(['Daniel', 'Magnolia', 'Jessy', 'Drogon', 'Viserion', 'Rhaegal',\n",
       "       'John Snow', 'Rhaegal_2', 'Viserion_2', 'Samwell Tarly', 'Gendry',\n",
       "       'Gendry_2', 'Daenerys', 'Olenna Tyrell'], dtype=object)"
      ]
     },
     "execution_count": 48,
     "metadata": {},
     "output_type": "execute_result"
    }
   ],
   "source": [
    "pd.unique(df['individual-local-identifier'])"
   ]
  },
  {
   "cell_type": "code",
   "execution_count": 51,
   "metadata": {},
   "outputs": [
    {
     "name": "stdout",
     "output_type": "stream",
     "text": [
      "<a id=Daniel href=\"#\">Daniel</a> |\n",
      "<a id=Magnolia href=\"#\">Magnolia</a> |\n",
      "<a id=Jessy href=\"#\">Jessy</a> |\n",
      "<a id=Drogon href=\"#\">Drogon</a> |\n",
      "<a id=Viserion href=\"#\">Viserion</a> |\n",
      "<a id=Rhaegal href=\"#\">Rhaegal</a> |\n",
      "<a id=John Snow href=\"#\">John Snow</a> |\n",
      "<a id=Rhaegal_2 href=\"#\">Rhaegal_2</a> |\n",
      "<a id=Viserion_2 href=\"#\">Viserion_2</a> |\n",
      "<a id=Samwell Tarly href=\"#\">Samwell Tarly</a> |\n",
      "<a id=Gendry href=\"#\">Gendry</a> |\n",
      "<a id=Gendry_2 href=\"#\">Gendry_2</a> |\n",
      "<a id=Daenerys href=\"#\">Daenerys</a> |\n",
      "<a id=Olenna Tyrell href=\"#\">Olenna Tyrell</a> |\n"
     ]
    }
   ],
   "source": [
    "for el in pd.unique(df['individual-local-identifier']):\n",
    "    print('<a id='+el+' href=\"#\">'+el+'</a> |')"
   ]
  },
  {
   "cell_type": "code",
   "execution_count": 4,
   "metadata": {},
   "outputs": [],
   "source": [
    "        <label class=\"btn btn-primary active\">\n",
    "          <input type=\"checkbox\" /> Option 1 (pre-checked)\n",
    "        </label>\n",
    "\n",
    "\n",
    "\n",
    "df = pd.read_csv('../d3fc-BCI/data2.tsv', sep = '\\t')"
   ]
  },
  {
   "cell_type": "code",
   "execution_count": 10,
   "metadata": {},
   "outputs": [
    {
     "name": "stdout",
     "output_type": "stream",
     "text": [
      "\n",
      "    <label class=\"btn btn-primary active\">\n",
      "          <input id = 'Daniel' type=\"checkbox\" checked /> Daniel\n",
      "        </label>\n",
      "        \n",
      "\n",
      "    <label class=\"btn btn-primary active\">\n",
      "          <input id = 'Magnolia' type=\"checkbox\" checked /> Magnolia\n",
      "        </label>\n",
      "        \n",
      "\n",
      "    <label class=\"btn btn-primary active\">\n",
      "          <input id = 'Jessy' type=\"checkbox\" checked /> Jessy\n",
      "        </label>\n",
      "        \n",
      "\n",
      "    <label class=\"btn btn-primary active\">\n",
      "          <input id = 'Drogon' type=\"checkbox\" checked /> Drogon\n",
      "        </label>\n",
      "        \n",
      "\n",
      "    <label class=\"btn btn-primary active\">\n",
      "          <input id = 'Viserion' type=\"checkbox\" checked /> Viserion\n",
      "        </label>\n",
      "        \n",
      "\n",
      "    <label class=\"btn btn-primary active\">\n",
      "          <input id = 'Rhaegal' type=\"checkbox\" checked /> Rhaegal\n",
      "        </label>\n",
      "        \n",
      "\n",
      "    <label class=\"btn btn-primary active\">\n",
      "          <input id = 'John Snow' type=\"checkbox\" checked /> John Snow\n",
      "        </label>\n",
      "        \n",
      "\n",
      "    <label class=\"btn btn-primary active\">\n",
      "          <input id = 'Rhaegal_2' type=\"checkbox\" checked /> Rhaegal_2\n",
      "        </label>\n",
      "        \n",
      "\n",
      "    <label class=\"btn btn-primary active\">\n",
      "          <input id = 'Viserion_2' type=\"checkbox\" checked /> Viserion_2\n",
      "        </label>\n",
      "        \n",
      "\n",
      "    <label class=\"btn btn-primary active\">\n",
      "          <input id = 'Samwell Tarly' type=\"checkbox\" checked /> Samwell Tarly\n",
      "        </label>\n",
      "        \n",
      "\n",
      "    <label class=\"btn btn-primary active\">\n",
      "          <input id = 'Gendry' type=\"checkbox\" checked /> Gendry\n",
      "        </label>\n",
      "        \n",
      "\n",
      "    <label class=\"btn btn-primary active\">\n",
      "          <input id = 'Gendry_2' type=\"checkbox\" checked /> Gendry_2\n",
      "        </label>\n",
      "        \n",
      "\n",
      "    <label class=\"btn btn-primary active\">\n",
      "          <input id = 'Daenerys' type=\"checkbox\" checked /> Daenerys\n",
      "        </label>\n",
      "        \n",
      "\n",
      "    <label class=\"btn btn-primary active\">\n",
      "          <input id = 'Olenna Tyrell' type=\"checkbox\" checked /> Olenna Tyrell\n",
      "        </label>\n",
      "        \n"
     ]
    }
   ],
   "source": [
    "for el in pd.unique(df['individual-local-identifier']):\n",
    "    print(f'''\n",
    "    <label class=\"btn btn-primary active\">\n",
    "          <input id = '{el}' type=\"checkbox\" checked /> {el}\n",
    "        </label>\n",
    "        ''')"
   ]
  },
  {
   "cell_type": "code",
   "execution_count": 11,
   "metadata": {},
   "outputs": [
    {
     "data": {
      "text/plain": [
       "498808"
      ]
     },
     "execution_count": 11,
     "metadata": {},
     "output_type": "execute_result"
    }
   ],
   "source": [
    "len(df)"
   ]
  },
  {
   "cell_type": "code",
   "execution_count": 14,
   "metadata": {},
   "outputs": [
    {
     "data": {
      "text/plain": [
       "0         False\n",
       "1         False\n",
       "2         False\n",
       "3         False\n",
       "4         False\n",
       "          ...  \n",
       "498803    False\n",
       "498804    False\n",
       "498805    False\n",
       "498806    False\n",
       "498807    False\n",
       "Name: individual-local-identifier, Length: 498808, dtype: bool"
      ]
     },
     "execution_count": 14,
     "metadata": {},
     "output_type": "execute_result"
    }
   ],
   "source": [
    "# df['individual-local-identifier'] == 'Daenerys'"
   ]
  },
  {
   "cell_type": "code",
   "execution_count": 19,
   "metadata": {},
   "outputs": [
    {
     "data": {
      "text/plain": [
       "array(['Daniel', 'Magnolia', 'Jessy', 'Drogon', 'Viserion', 'Rhaegal',\n",
       "       'John Snow', 'Rhaegal_2', 'Viserion_2', 'Samwell Tarly', 'Gendry',\n",
       "       'Gendry_2', 'Daenerys', 'Olenna Tyrell'], dtype=object)"
      ]
     },
     "execution_count": 19,
     "metadata": {},
     "output_type": "execute_result"
    }
   ],
   "source": [
    "pd.unique(df['individual-local-identifier'])"
   ]
  },
  {
   "cell_type": "code",
   "execution_count": 20,
   "metadata": {},
   "outputs": [
    {
     "data": {
      "text/plain": [
       "0          True\n",
       "1          True\n",
       "2          True\n",
       "3          True\n",
       "4          True\n",
       "          ...  \n",
       "498803    False\n",
       "498804    False\n",
       "498805    False\n",
       "498806    False\n",
       "498807    False\n",
       "Name: individual-local-identifier, Length: 498808, dtype: bool"
      ]
     },
     "execution_count": 20,
     "metadata": {},
     "output_type": "execute_result"
    }
   ],
   "source": [
    "df['individual-local-identifier'] == 'Daniel'"
   ]
  },
  {
   "cell_type": "code",
   "execution_count": 25,
   "metadata": {},
   "outputs": [],
   "source": [
    "for el in pd.unique(df['individual-local-identifier']):\n",
    "    df[el] = (df['individual-local-identifier'] == el).astype(int)"
   ]
  },
  {
   "cell_type": "code",
   "execution_count": 27,
   "metadata": {},
   "outputs": [],
   "source": [
    "df.to_csv('names.tsv', sep = '\\t')"
   ]
  },
  {
   "cell_type": "code",
   "execution_count": 28,
   "metadata": {},
   "outputs": [
    {
     "data": {
      "text/plain": [
       "Index(['Unnamed: 0', 'event-id', 'visible', 'timestamp', 'location-long',\n",
       "       'location-lat', 'bar:barometric-pressure', 'data-decoding-software',\n",
       "       'eobs:acceleration-axes',\n",
       "       'eobs:acceleration-sampling-frequency-per-axis',\n",
       "       'eobs:accelerations-raw', 'eobs:activity', 'eobs:activity-samples',\n",
       "       'eobs:battery-voltage', 'eobs:fix-battery-voltage',\n",
       "       'eobs:horizontal-accuracy-estimate', 'eobs:key-bin-checksum',\n",
       "       'eobs:speed-accuracy-estimate', 'eobs:start-timestamp', 'eobs:status',\n",
       "       'eobs:temperature', 'eobs:type-of-fix', 'eobs:used-time-to-get-fix',\n",
       "       'gps:dop', 'gps:satellite-count', 'ground-speed', 'heading',\n",
       "       'height-above-ellipsoid', 'import-marked-outlier',\n",
       "       'mag:magnetic-field-raw-x', 'mag:magnetic-field-raw-y',\n",
       "       'mag:magnetic-field-raw-z',\n",
       "       'mag:magnetic-field-sampling-frequency-per-axis',\n",
       "       'mag:magnetic-fields-raw', 'orientation:quaternion-raw-w',\n",
       "       'orientation:quaternion-raw-x', 'orientation:quaternion-raw-y',\n",
       "       'orientation:quaternion-raw-z', 'orientation:quaternions-raw',\n",
       "       'orientation:quaternions-sampling-frequency', 'sensor-type',\n",
       "       'individual-taxon-canonical-name', 'tag-local-identifier',\n",
       "       'individual-local-identifier', 'study-name', 'utm-easting',\n",
       "       'utm-northing', 'utm-zone', 'Daniel', 'Magnolia', 'Jessy', 'Drogon',\n",
       "       'Viserion', 'Rhaegal', 'John Snow', 'Rhaegal_2', 'Viserion_2',\n",
       "       'Samwell Tarly', 'Gendry', 'Gendry_2', 'Daenerys', 'Olenna Tyrell'],\n",
       "      dtype='object')"
      ]
     },
     "execution_count": 28,
     "metadata": {},
     "output_type": "execute_result"
    }
   ],
   "source": [
    "df.columns"
   ]
  },
  {
   "cell_type": "code",
   "execution_count": 35,
   "metadata": {},
   "outputs": [],
   "source": [
    "df_processed = df[['timestamp', 'location-long', 'individual-local-identifier',\n",
    "       'location-lat', 'utm-easting',\n",
    "       'utm-northing', 'utm-zone', 'Daniel', 'Magnolia', 'Jessy', 'Drogon',\n",
    "       'Viserion', 'Rhaegal', 'John Snow', 'Rhaegal_2', 'Viserion_2',\n",
    "       'Samwell Tarly', 'Gendry', 'Gendry_2', 'Daenerys', 'Olenna Tyrell']]"
   ]
  },
  {
   "cell_type": "code",
   "execution_count": 36,
   "metadata": {},
   "outputs": [],
   "source": [
    "df_processed.to_csv('names.tsv', sep = '\\t')"
   ]
  },
  {
   "cell_type": "code",
   "execution_count": 55,
   "metadata": {},
   "outputs": [
    {
     "name": "stdout",
     "output_type": "stream",
     "text": [
      "if (el.id == 'timestamp') { \n",
      "          fillColor.value(timestampFill)\n",
      "          }\n",
      "if (el.id == 'location-long') { \n",
      "          fillColor.value(location-longFill)\n",
      "          }\n",
      "if (el.id == 'individual-local-identifier') { \n",
      "          fillColor.value(individual-local-identifierFill)\n",
      "          }\n",
      "if (el.id == 'location-lat') { \n",
      "          fillColor.value(location-latFill)\n",
      "          }\n",
      "if (el.id == 'utm-easting') { \n",
      "          fillColor.value(utm-eastingFill)\n",
      "          }\n",
      "if (el.id == 'utm-northing') { \n",
      "          fillColor.value(utm-northingFill)\n",
      "          }\n",
      "if (el.id == 'utm-zone') { \n",
      "          fillColor.value(utm-zoneFill)\n",
      "          }\n",
      "if (el.id == 'Daniel') { \n",
      "          fillColor.value(DanielFill)\n",
      "          }\n",
      "if (el.id == 'Magnolia') { \n",
      "          fillColor.value(MagnoliaFill)\n",
      "          }\n",
      "if (el.id == 'Jessy') { \n",
      "          fillColor.value(JessyFill)\n",
      "          }\n",
      "if (el.id == 'Drogon') { \n",
      "          fillColor.value(DrogonFill)\n",
      "          }\n",
      "if (el.id == 'Viserion') { \n",
      "          fillColor.value(ViserionFill)\n",
      "          }\n",
      "if (el.id == 'Rhaegal') { \n",
      "          fillColor.value(RhaegalFill)\n",
      "          }\n",
      "if (el.id == 'John Snow') { \n",
      "          fillColor.value(John SnowFill)\n",
      "          }\n",
      "if (el.id == 'Rhaegal_2') { \n",
      "          fillColor.value(Rhaegal_2Fill)\n",
      "          }\n",
      "if (el.id == 'Viserion_2') { \n",
      "          fillColor.value(Viserion_2Fill)\n",
      "          }\n",
      "if (el.id == 'Samwell Tarly') { \n",
      "          fillColor.value(Samwell TarlyFill)\n",
      "          }\n",
      "if (el.id == 'Gendry') { \n",
      "          fillColor.value(GendryFill)\n",
      "          }\n",
      "if (el.id == 'Gendry_2') { \n",
      "          fillColor.value(Gendry_2Fill)\n",
      "          }\n",
      "if (el.id == 'Daenerys') { \n",
      "          fillColor.value(DaenerysFill)\n",
      "          }\n",
      "if (el.id == 'Olenna Tyrell') { \n",
      "          fillColor.value(Olenna TyrellFill)\n",
      "          }\n"
     ]
    }
   ],
   "source": [
    "for col in df_processed.columns:\n",
    "    print(f'''if (el.id == '{col}') {{ \n",
    "          fillColor.value({col}Fill)\n",
    "          }}''')"
   ]
  },
  {
   "cell_type": "code",
   "execution_count": 61,
   "metadata": {},
   "outputs": [],
   "source": [
    " colors = [\n",
    "  \"#1abc9c\",\n",
    "  \"#16a085\",\n",
    "  \"#2ecc71\",\n",
    "  \"#27ae60\",\n",
    "  \"#3498db\",\n",
    "  \"#2980b9\",\n",
    "  \"#9b59b6\",\n",
    "  \"#8e44ad\",\n",
    "  \"#f1c40f\",\n",
    "  \"#f39c12\",\n",
    "  \"#e67e22\",\n",
    "  \"#d35400\",\n",
    "  \"#e74c3c\",\n",
    "  \"#c0392b\",\n",
    "];"
   ]
  },
  {
   "cell_type": "code",
   "execution_count": 62,
   "metadata": {},
   "outputs": [],
   "source": [
    "names = [\n",
    "    'Daniel', 'Magnolia', 'Jessy', 'Drogon', 'Viserion', 'Rhaegal',\n",
    "       'John Snow', 'Rhaegal_2', 'Viserion_2', 'Samwell Tarly', 'Gendry',\n",
    "       'Gendry_2', 'Daenerys', 'Olenna Tyrell'\n",
    "]"
   ]
  },
  {
   "cell_type": "code",
   "execution_count": 63,
   "metadata": {},
   "outputs": [],
   "source": [
    "dictionary = dict(zip(names, colors))\n"
   ]
  },
  {
   "cell_type": "code",
   "execution_count": 64,
   "metadata": {},
   "outputs": [
    {
     "data": {
      "text/plain": [
       "{'Daniel': '#1abc9c',\n",
       " 'Magnolia': '#16a085',\n",
       " 'Jessy': '#2ecc71',\n",
       " 'Drogon': '#27ae60',\n",
       " 'Viserion': '#3498db',\n",
       " 'Rhaegal': '#2980b9',\n",
       " 'John Snow': '#9b59b6',\n",
       " 'Rhaegal_2': '#8e44ad',\n",
       " 'Viserion_2': '#f1c40f',\n",
       " 'Samwell Tarly': '#f39c12',\n",
       " 'Gendry': '#e67e22',\n",
       " 'Gendry_2': '#d35400',\n",
       " 'Daenerys': '#e74c3c',\n",
       " 'Olenna Tyrell': '#c0392b'}"
      ]
     },
     "execution_count": 64,
     "metadata": {},
     "output_type": "execute_result"
    }
   ],
   "source": [
    "dictionary"
   ]
  },
  {
   "cell_type": "code",
   "execution_count": 4,
   "metadata": {},
   "outputs": [],
   "source": [
    "data = pd.read_csv('data/Dead-Reackoning-Processed.csv')"
   ]
  },
  {
   "cell_type": "code",
   "execution_count": 5,
   "metadata": {},
   "outputs": [
    {
     "data": {
      "text/plain": [
       "49881"
      ]
     },
     "execution_count": 5,
     "metadata": {},
     "output_type": "execute_result"
    }
   ],
   "source": [
    "data = data.iloc[:: 10]\n",
    "len(data)"
   ]
  },
  {
   "cell_type": "code",
   "execution_count": 6,
   "metadata": {},
   "outputs": [],
   "source": [
    "data.to_csv('data/Dead-Reackon-Sample.csv')"
   ]
  },
  {
   "cell_type": "code",
   "execution_count": null,
   "metadata": {},
   "outputs": [],
   "source": []
  }
 ],
 "metadata": {
  "interpreter": {
   "hash": "31f2aee4e71d21fbe5cf8b01ff0e069b9275f58929596ceb00d14d90e3e16cd6"
  },
  "kernelspec": {
   "display_name": "Python 3 (ipykernel)",
   "language": "python",
   "name": "python3"
  },
  "language_info": {
   "codemirror_mode": {
    "name": "ipython",
    "version": 3
   },
   "file_extension": ".py",
   "mimetype": "text/x-python",
   "name": "python",
   "nbconvert_exporter": "python",
   "pygments_lexer": "ipython3",
   "version": "3.10.9"
  }
 },
 "nbformat": 4,
 "nbformat_minor": 2
}
