{
 "cells": [
  {
   "cell_type": "code",
   "execution_count": 48,
   "metadata": {},
   "outputs": [],
   "source": [
    "import pandas as pd\n",
    "import numpy as np\n",
    "import utm"
   ]
  },
  {
   "cell_type": "code",
   "execution_count": 49,
   "metadata": {},
   "outputs": [
    {
     "name": "stderr",
     "output_type": "stream",
     "text": [
      "/var/folders/2z/k0vctg855l3dq626nd2hf5j40000gn/T/ipykernel_3617/925890945.py:1: DtypeWarning: Columns (7,9,18,32,37,46) have mixed types. Specify dtype option on import or set low_memory=False.\n",
      "  df_d = pd.read_csv('data/Dead-Reckoning Arboreal Species in BCI.csv')\n"
     ]
    }
   ],
   "source": [
    "df_d = pd.read_csv('data/Dead-Reckoning Arboreal Species in BCI.csv')\n",
    "df_d = df_d[df_d['utm-easting'] > 0]\n",
    "sliced_data = df_d.iloc[::25, :]\n",
    "sliced_data.to_csv('data/sliced_dr.csv')"
   ]
  },
  {
   "cell_type": "code",
   "execution_count": 55,
   "metadata": {},
   "outputs": [
    {
     "name": "stderr",
     "output_type": "stream",
     "text": [
      "/var/folders/2z/k0vctg855l3dq626nd2hf5j40000gn/T/ipykernel_3617/2852896219.py:1: DtypeWarning: Columns (7,9,18) have mixed types. Specify dtype option on import or set low_memory=False.\n",
      "  df_m = pd.read_csv('data/Molly.csv')\n"
     ]
    }
   ],
   "source": [
    "df_m = pd.read_csv('data/Molly.csv')\n",
    "\n",
    "df_m = df_m[df_m['location-long'] < 0]\n",
    "\n",
    "df_m[['UTM_lat', 'UTM_lon', 'zone_number', 'zone_letter']] = df_m.apply(lambda row: utm.from_latlon(row['location-lat'], row['location-long']), axis=1, result_type='expand')\n",
    "df_m['timestamp'] = pd.to_datetime(df_m['timestamp'], format='%Y-%m-%d')\n",
    "\n",
    "sliced_data = df_m.iloc[::25, :]\n",
    "\n",
    "\n",
    "sliced_data.to_csv('data/sliced_m.csv')"
   ]
  },
  {
   "cell_type": "code",
   "execution_count": 57,
   "metadata": {},
   "outputs": [
    {
     "name": "stderr",
     "output_type": "stream",
     "text": [
      "/var/folders/2z/k0vctg855l3dq626nd2hf5j40000gn/T/ipykernel_3617/3495983089.py:1: DtypeWarning: Columns (7,9,18) have mixed types. Specify dtype option on import or set low_memory=False.\n",
      "  df_t = pd.read_csv('data/Tony Stark.csv')\n"
     ]
    }
   ],
   "source": [
    "df_t = pd.read_csv('data/Tony Stark.csv')\n",
    "df_t= df_t[df_t['location-long'] < 0]\n",
    "df_t[['UTM_lat', 'UTM_lon', 'zone_number', 'zone_letter']] = df_t.apply(lambda row: utm.from_latlon(row['location-lat'], row['location-long']), axis=1, result_type='expand')\n",
    "df_t['timestamp'] = pd.to_datetime(df_t['timestamp'], format='%Y-%m-%d')\n",
    "\n",
    "\n",
    "\n",
    "sliced_data = df_t.iloc[::25, :]\n",
    "sliced_data.to_csv('data/sliced_t.csv')"
   ]
  },
  {
   "cell_type": "code",
   "execution_count": 89,
   "metadata": {},
   "outputs": [],
   "source": [
    "df_t['timestamp'] = pd.to_datetime(df_t['timestamp'], format='%Y-%m-%d')\n",
    "\n",
    "df = df_t\n",
    "df['year'] = df['timestamp'].dt.year\n",
    "df['month'] = df['timestamp'].dt.month\n",
    "df['day'] = df['timestamp'].dt.day"
   ]
  },
  {
   "cell_type": "code",
   "execution_count": 90,
   "metadata": {},
   "outputs": [],
   "source": [
    "df['date_string'] = df['timestamp'].dt.strftime('%Y-%m-%d')\n"
   ]
  },
  {
   "cell_type": "code",
   "execution_count": 93,
   "metadata": {},
   "outputs": [
    {
     "data": {
      "text/plain": [
       "array(['2019-06-13', '2019-06-14', '2019-06-15', '2019-06-16',\n",
       "       '2019-06-17', '2019-06-18', '2019-06-19', '2019-06-20',\n",
       "       '2019-06-21', '2019-06-22', '2019-06-23', '2019-06-24',\n",
       "       '2019-06-25'], dtype=object)"
      ]
     },
     "execution_count": 93,
     "metadata": {},
     "output_type": "execute_result"
    }
   ],
   "source": [
    "### We need UTM coordinates for each point \n",
    "### We need date information for clustering the points\n",
    "### 3 datasets need to be loaded dynamically\n",
    "\n",
    "def d"
   ]
  },
  {
   "cell_type": "code",
   "execution_count": null,
   "metadata": {},
   "outputs": [],
   "source": []
  }
 ],
 "metadata": {
  "interpreter": {
   "hash": "31f2aee4e71d21fbe5cf8b01ff0e069b9275f58929596ceb00d14d90e3e16cd6"
  },
  "kernelspec": {
   "display_name": "Python 3 (ipykernel)",
   "language": "python",
   "name": "python3"
  },
  "language_info": {
   "codemirror_mode": {
    "name": "ipython",
    "version": 3
   },
   "file_extension": ".py",
   "mimetype": "text/x-python",
   "name": "python",
   "nbconvert_exporter": "python",
   "pygments_lexer": "ipython3",
   "version": "3.10.9"
  }
 },
 "nbformat": 4,
 "nbformat_minor": 2
}
