{
 "cells": [
  {
   "cell_type": "markdown",
   "id": "08c7e633",
   "metadata": {},
   "source": [
    "## Data Reading and Transformation\n",
    "The data (BCI Arboreal) has a lot of fields which are NaN and a lot of irrelevant variables for my analysis right now I only require location (X, Y, UTM-north, UTM-east) \n",
    "Time(timestamp)\n",
    "Name fields\n",
    "\n",
    "So I run queries to filter out the above fields and remove any empty data fields from the dataframe"
   ]
  },
  {
   "cell_type": "code",
   "execution_count": 1,
   "id": "f670044d",
   "metadata": {},
   "outputs": [
    {
     "name": "stderr",
     "output_type": "stream",
     "text": [
      "/var/folders/2z/k0vctg855l3dq626nd2hf5j40000gn/T/ipykernel_29595/2044101010.py:3: DtypeWarning: Columns (7,9,18,32,37,46) have mixed types. Specify dtype option on import or set low_memory=False.\n",
      "  df = pd.read_csv('data/Dead-Reckoning Arboreal Species in BCI.csv')\n"
     ]
    }
   ],
   "source": [
    "import pandas as pd\n",
    "import numpy as np\n",
    "df = pd.read_csv('data/Dead-Reckoning Arboreal Species in BCI.csv')\n",
    "# convert the timestamp column to Unix timestamps\n",
    "df['timestamp'] = pd.to_datetime(df['timestamp']).apply(lambda x: x.timestamp())\n",
    "\n",
    "# convert the Unix timestamps to integers\n",
    "df['timestamp'] = df['timestamp'].astype(int)"
   ]
  },
  {
   "cell_type": "markdown",
   "id": "fe871ff6",
   "metadata": {},
   "source": [
    "After reading the data. I'm only taking the GPS sensor logs. I tried to merge the records of other sensors (acc / mag). The only reasonable field I thought would be timestamp however the records didn't match good enough so only keeping the GPS data for now"
   ]
  },
  {
   "cell_type": "code",
   "execution_count": 2,
   "id": "ca0f586c",
   "metadata": {},
   "outputs": [],
   "source": [
    "##Considering the GPS data for this study\n",
    "df_gps = df[df['sensor-type'] == 'gps']\n",
    "# df_gps.dropna(axis = 1, inplace = True)|\n",
    "df_extract = df_gps[['utm-easting', 'utm-northing', 'timestamp']]"
   ]
  },
  {
   "cell_type": "markdown",
   "id": "fb929ec2",
   "metadata": {},
   "source": [
    "6 steps for generalizing and summarizing data to make a flow map \n",
    "\n",
    "4. use the resulting Voronoi cells as places for place-based division of the trajectories into segments;\n",
    "5. for each ordered pair of places, aggregate the trajectory segments starting in the first place and ending in the second place;\n",
    "6. measure the quality of the generalization and improve it if necessary."
   ]
  },
  {
   "cell_type": "markdown",
   "id": "326905c4",
   "metadata": {},
   "source": [
    "### 1. extract characteristic points from the trajectories;\n"
   ]
  },
  {
   "cell_type": "code",
   "execution_count": 3,
   "id": "265b0972",
   "metadata": {},
   "outputs": [
    {
     "name": "stderr",
     "output_type": "stream",
     "text": [
      "/var/folders/2z/k0vctg855l3dq626nd2hf5j40000gn/T/ipykernel_29595/2157936881.py:12: RuntimeWarning: invalid value encountered in double_scalars\n",
      "  return math.degrees(math.acos(dot_product / magnitude_product))\n"
     ]
    }
   ],
   "source": [
    "import math\n",
    "\n",
    "def get_mean(lst):\n",
    "    return sum(lst) / len(lst)\n",
    "\n",
    "def spatial_distance(p1, p2):\n",
    "    return math.sqrt((p1[0] - p2[0])**2 + (p1[1] - p2[1])**2)\n",
    "\n",
    "def angle_between_vectors(v1, v2):\n",
    "    dot_product = v1[0] * v2[0] + v1[1] * v2[1]\n",
    "    magnitude_product = math.sqrt(v1[0]**2 + v1[1]**2) * math.sqrt(v2[0]**2 + v2[1]**2)\n",
    "    return math.degrees(math.acos(dot_product / magnitude_product))\n",
    "\n",
    "def extract_significant_points(points, min_distance = 3, max_distance = 10, min_angle = 30, min_stop_duration = 100):\n",
    "    n = len(points)\n",
    "    C = [points[0]]\n",
    "    i = 0\n",
    "    j = 1\n",
    "\n",
    "    while j < n:\n",
    "        \n",
    "        if j == n - 1:\n",
    "            C.append(points[j])\n",
    "            break\n",
    "\n",
    "        d_space_i_j = spatial_distance(points[i][:2], points[j][:2])\n",
    "        if d_space_i_j >= max_distance:\n",
    "            C.append(points[j])\n",
    "            i = j\n",
    "            j = i + 1\n",
    "        #Fine\n",
    "        else:\n",
    "            k = j + 1\n",
    "            while k < n and spatial_distance(points[j][:2], points[k][:2]) < min_distance:\n",
    "                k = k + 1\n",
    "            #Fine\n",
    "            if k > j + 1:\n",
    "                d_time = points[k-1][2] - points[j][2]\n",
    "                if d_time >= min_stop_duration:\n",
    "                    C.append(points[j])\n",
    "                    i = j\n",
    "                    j = k\n",
    "                    \n",
    "            #Fine\n",
    "                else:\n",
    "                    x_vals, y_vals, t_vals = zip(*points[j:k])\n",
    "                    x_ave = get_mean(x_vals)\n",
    "                    y_ave = get_mean(y_vals)\n",
    "\n",
    "                    distances = [spatial_distance((x, y), (x_ave, y_ave)) for x, y, _ in points[j:k]]\n",
    "                    m = j + distances.index(min(distances))\n",
    "\n",
    "                    C.append(points[m])\n",
    "                    i = j\n",
    "                    j = m + 1\n",
    "\n",
    "            else:\n",
    "                a_turn = angle_between_vectors((points[i][0] - points[j][0], points[i][1] - points[j][1]),\n",
    "                                               (points[j][0] - points[k][0], points[j][1] - points[k][1]))\n",
    "                if a_turn >= min_angle:\n",
    "                    C.append(points[j])\n",
    "                    i = j\n",
    "                    j = k\n",
    "                else:\n",
    "                    j += 1\n",
    "\n",
    "    return C\n",
    "extracted_points = extract_significant_points(df_extract.to_numpy())\n"
   ]
  },
  {
   "cell_type": "code",
   "execution_count": 4,
   "id": "9afd1b07",
   "metadata": {},
   "outputs": [
    {
     "data": {
      "text/plain": [
       "203996"
      ]
     },
     "execution_count": 4,
     "metadata": {},
     "output_type": "execute_result"
    }
   ],
   "source": [
    "len(extracted_points)"
   ]
  },
  {
   "cell_type": "markdown",
   "id": "e214511b",
   "metadata": {},
   "source": [
    "### 2. Group the extracted points by spatial proximity;\n",
    "### Class definitions"
   ]
  },
  {
   "cell_type": "code",
   "execution_count": 6,
   "id": "655fcb1e",
   "metadata": {},
   "outputs": [
    {
     "name": "stdout",
     "output_type": "stream",
     "text": [
      "10001\n",
      "10001\n",
      "10001\n",
      "10001\n",
      "10001\n",
      "10001\n",
      "10001\n",
      "10001\n",
      "10001\n",
      "10001\n",
      "10001\n",
      "10001\n",
      "10001\n",
      "10001\n",
      "10001\n",
      "10001\n",
      "10001\n",
      "10001\n",
      "10001\n",
      "10001\n",
      "42\n"
     ]
    }
   ],
   "source": [
    "import math\n",
    "from typing import List, Tuple, Set\n",
    "\n",
    "class Point:\n",
    "    def __init__(self, x: float, y: float):\n",
    "        self.x = x\n",
    "        self.y = y\n",
    "\n",
    "class Group:\n",
    "    def __init__(self, centroid: Point, members: Set[Point]):\n",
    "        self.centroid = centroid\n",
    "        self.members = members\n",
    "\n",
    "class Grid:\n",
    "    def __init__(self, x_min: float, x_max: float, y_min: float, y_max: float, max_radius: float):\n",
    "        self.x_min = x_min\n",
    "        self.x_max = x_max\n",
    "        self.y_min = y_min\n",
    "        self.y_max = y_max\n",
    "        self.max_radius = max_radius\n",
    "        self.n_rows = math.ceil((y_max - y_min) / max_radius)\n",
    "        self.n_cols = math.ceil((x_max - x_min) / max_radius)\n",
    "        self.cells = [[set() for _ in range(self.n_cols)] for _ in range(self.n_rows)]\n",
    "\n",
    "    def get_grid_position(self, point: Point) -> Tuple[int, int]:\n",
    "        i = math.floor((point.y - self.y_min) / self.max_radius)\n",
    "        j = math.floor((point.x - self.x_min) / self.max_radius)\n",
    "        return i, j\n",
    "\n",
    "    def get_closest_centroid(self, point: Point) -> Group:\n",
    "        i, j = self.get_grid_position(point)\n",
    "        c = None\n",
    "        for row in range(max(i - 1, 0), min(i + 2, self.n_rows)):\n",
    "            for col in range(max(j - 1, 0), min(j + 2, self.n_cols)):\n",
    "                for centroid in self.cells[row][col]:\n",
    "                    if self._spatial_distance(point, centroid) <= self.max_radius:\n",
    "                        if c is None or self._spatial_distance(point, centroid) < self._spatial_distance(point, c.centroid):\n",
    "                            c = Group(centroid, set())\n",
    "        return c\n",
    "\n",
    "    def add_centroid(self, group: Group):\n",
    "        i, j = self.get_grid_position(group.centroid)\n",
    "        self.cells[i][j].add(group.centroid)\n",
    "\n",
    "    def remove_centroid(self, group: Group):\n",
    "        i, j = self.get_grid_position(group.centroid)\n",
    "        self.cells[i][j].remove(group.centroid)\n",
    "\n",
    "    def _spatial_distance(self, p1: Point, p2: Point) -> float:\n",
    "        return math.sqrt((p1.x - p2.x) ** 2 + (p1.y - p2.y) ** 2)\n",
    "\n",
    "    \n",
    "# def redistribute_points(P, group, grid):\n",
    "    \n",
    "    \n",
    "    \n",
    "#     for group in groups:\n",
    "#         group.members = [group.centroid]\n",
    "        \n",
    "        \n",
    "    \n",
    "#     for p in points:\n",
    "#            c = G.get_closest_centroid(p)\n",
    "#         if c is None:\n",
    "#             g = Group(p, p)\n",
    "#             R.add(g)\n",
    "#     else:\n",
    "#         g = next((g for g in R if g.centroid == c), None)\n",
    "#         if g is not None:\n",
    "#             print(g)\n",
    "#             g.members.append(p)\n",
    "#             G.remove_centroid(c)\n",
    "#             g.centroid = get_centroid(g.members)\n",
    "#     if g is not None:\n",
    "#         i, j = G.get_grid_position(g.centroid)\n",
    "#         G.add_centroid(g)\n",
    "\n",
    "def put_in_proper_group(p: Tuple[float, float], R: List[Group], G: Grid) -> None:\n",
    "    c = G.get_closest_centroid(p)\n",
    "    if c is None:\n",
    "        g = Group(p, p)\n",
    "        R.add(g)\n",
    "    else:\n",
    "        g = next((g for g in R if g.centroid == c), None)\n",
    "        if g is not None:\n",
    "            print(g)\n",
    "            g.members.append(p)\n",
    "            G.remove_centroid(c)\n",
    "            g.centroid = get_centroid(g.members)\n",
    "    if g is not None:\n",
    "        i, j = G.get_grid_position(g.centroid)\n",
    "        G.add_centroid(g)\n",
    "        \n",
    "\n",
    "def build_groups(points: List[Point], max_radius: float) -> Set[Group]:\n",
    "    # Step 1\n",
    "    x_min = min(point.x for point in points)\n",
    "    x_max = max(point.x for point in points)\n",
    "    y_min = min(point.y for point in points)\n",
    "    y_max = max(point.y for point in points)\n",
    "\n",
    "    # Step 2\n",
    "    grid = Grid(x_min, x_max, y_min, y_max, max_radius)\n",
    "\n",
    "    # Step 3\n",
    "    groups = set()\n",
    "\n",
    "    i = 0\n",
    "    # Step 4\n",
    "    for point in points:\n",
    "        if(i > 10000):\n",
    "            print(i)\n",
    "            i = 0\n",
    "        i += 1\n",
    "        put_in_proper_group(point, groups, grid)\n",
    "    print(len(groups))\n",
    "    # Step 5\n",
    "#     redistribute_points(points, groups, grid)\n",
    "\n",
    "    # Step 6\n",
    "    return groups\n",
    "extracted_points = [Point(point[0], point[1]) for point in extracted_points]\n",
    "g1 = build_groups(extracted_points, 300)"
   ]
  },
  {
   "cell_type": "code",
   "execution_count": null,
   "id": "02431df6",
   "metadata": {},
   "outputs": [],
   "source": [
    "points = extracted_points\n",
    "max_radius = 300\n",
    "x_min = min(point.x for point in points)\n",
    "x_max = max(point.x for point in points)\n",
    "y_min = min(point.y for point in points)\n",
    "y_max = max(point.y for point in points)\n",
    "\n",
    "# Step 2\n",
    "grid = Grid(x_min, x_max, y_min, y_max, max_radius)\n",
    "\n",
    "# Step 3\n",
    "groups = set()\n",
    "\n",
    "i = 0\n",
    "# Step 4\n",
    "for point in points:\n",
    "    if(i > 10000):\n",
    "        print(i)\n",
    "        i = 0\n",
    "    i += 1\n",
    "    put_in_proper_group(point, groups, grid)\n",
    "print(len(groups))\n",
    "# Step 5\n",
    "# redistribute_points(points, groups, grid)"
   ]
  },
  {
   "cell_type": "code",
   "execution_count": null,
   "id": "d04c9791",
   "metadata": {},
   "outputs": [],
   "source": [
    "grid.cells"
   ]
  },
  {
   "cell_type": "markdown",
   "id": "7f6d747d",
   "metadata": {},
   "source": [
    "### Converting extracted points to Point Class "
   ]
  },
  {
   "cell_type": "markdown",
   "id": "1c0c76a2",
   "metadata": {},
   "source": [
    "### Functions - already working code (but time C too high)"
   ]
  },
  {
   "cell_type": "markdown",
   "id": "fc20d376",
   "metadata": {},
   "source": [
    "## 2.1 Visualizing Groups"
   ]
  },
  {
   "cell_type": "code",
   "execution_count": null,
   "id": "0257a29b",
   "metadata": {},
   "outputs": [],
   "source": [
    "groups = g1\n",
    "import matplotlib.pyplot as plt\n",
    "from matplotlib import cm\n",
    "colors = cm.rainbow([i/len(groups) for i in range(len(groups))])\n",
    "for i, group in enumerate(groups):\n",
    "    x = [point.x for point in group.members]\n",
    "    y = [point.y for point in group.members]\n",
    "    plt.scatter(x, y, color=colors[i], label=f\"Group {i+1}\")\n",
    "# plt.legend()\n",
    "plt.show()"
   ]
  },
  {
   "cell_type": "markdown",
   "id": "2291c50d",
   "metadata": {},
   "source": [
    "## 2.5 Optimization of obtained points"
   ]
  },
  {
   "cell_type": "markdown",
   "id": "3deceece",
   "metadata": {},
   "source": [
    "## 3. extract the centroids (average points) of the point groups and use them as generating points for Voronoi tessellation;\n"
   ]
  },
  {
   "cell_type": "code",
   "execution_count": null,
   "id": "66d849c1",
   "metadata": {},
   "outputs": [],
   "source": [
    "import numpy as np\n",
    "import matplotlib.pyplot as plt\n",
    "from scipy.spatial import Voronoi, voronoi_plot_2d\n",
    "\n",
    "members = np.concatenate([group.members for group in groups])\n",
    "points = [[member.x, member.y] for member in members]\n",
    "\n",
    "centroids = [group.centroid for group in groups]\n",
    "centroids = [[centroid.x, centroid.y] for centroid in centroids]\n",
    "\n",
    "# Calculate Voronoi diagram\n",
    "vor = Voronoi(centroids)\n",
    "\n",
    "# Plot the Voronoi diagram\n",
    "fig = voronoi_plot_2d(vor, show_vertices=False, line_colors='grey', line_width=0.5, point_size=2)\n",
    "\n",
    "# Color the Voronoi cells according to their corresponding cluster centroid\n",
    "for i, centroid in enumerate(centroids):\n",
    "    cluster_points = points[np.argwhere(np.all(centroids[i] == centroid, axis=1)).flatten()]\n",
    "    region_indices = vor.point_region[np.argwhere(np.all(points == centroid, axis=1)).flatten()]\n",
    "    regions = [vor.regions[index] for index in region_indices if index != -1]\n",
    "    voronoi_plot_2d(vor, show_vertices=False, line_colors='k', line_width=2, point_size=0)\n",
    "    for region in regions:\n",
    "        polygon = [vor.vertices[i] for i in region]\n",
    "        plt.fill(*zip(*polygon), alpha=0.2, label=f'Cluster {i+1}')\n",
    "    plt.scatter(cluster_points[:,0], cluster_points[:,1], color=f'C{i}', label=f'Cluster {i+1} Points')\n",
    "    \n",
    "# Add title and legend\n",
    "plt.title('Voronoi Cells for Clustered Data')\n",
    "plt.legend(loc='upper left')\n",
    "\n",
    "# Show the plot\n",
    "plt.show()\n"
   ]
  },
  {
   "cell_type": "code",
   "execution_count": null,
   "id": "e7b63daa",
   "metadata": {},
   "outputs": [],
   "source": [
    "n_c = 4\n",
    "n_r = 20\n",
    "list_of_num = [[]*n_c] * n_r\n",
    "\n",
    "len(list_of_num[0])"
   ]
  },
  {
   "cell_type": "code",
   "execution_count": null,
   "id": "44c8937e",
   "metadata": {},
   "outputs": [],
   "source": []
  }
 ],
 "metadata": {
  "kernelspec": {
   "display_name": "Python 3 (ipykernel)",
   "language": "python",
   "name": "python3"
  },
  "language_info": {
   "codemirror_mode": {
    "name": "ipython",
    "version": 3
   },
   "file_extension": ".py",
   "mimetype": "text/x-python",
   "name": "python",
   "nbconvert_exporter": "python",
   "pygments_lexer": "ipython3",
   "version": "3.10.9"
  }
 },
 "nbformat": 4,
 "nbformat_minor": 5
}
