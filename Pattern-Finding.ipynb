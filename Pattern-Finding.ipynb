{
 "cells": [
  {
   "cell_type": "markdown",
   "id": "5d734538",
   "metadata": {},
   "source": [
    "\n",
    "# Analyzing Animal Movement Patterns: Unveiling Behavior Insights\n",
    "\n",
    "**Introduction**\n",
    "The primary objective of this analysis was to uncover meaningful patterns from complex movement trajectories that could offer deeper insights into animal behavior.\n",
    "\n",
    "**Methodology: Encoding Movement into Meaningful Patterns**\n",
    "*String-Based Representation*: To transform the raw movement data into a structured format, a method was devised to encode the animals' movement trajectories into string-based representations. This systematic approach captured the directional components of the animals' movements, forming the basis for subsequent analyses.\n",
    "\n",
    "**Identifying Individual Animal Behavior Patterns**\n",
    "*Pattern Recognition Techniques*: Techniques were employed to identify frequent patterns within the movement strings for each individual animal. By meticulously extracting and categorizing these recurring sequences, distinct behavioral tendencies specific to each animal were discerned.\n",
    "\n",
    "**Unveiling Cross-Species Behavioral Trends**\n",
    "*Comparative Analysis of Frequent Patterns*: Moving beyond individual animal behaviors, the analysis delved into the realm of inter-animal interactions. By comparing the frequent patterns identified across various species, common behavioral tendencies that transcended species boundaries were unveiled.\n",
    "\n",
    "**Visual Representation for Enhanced Insights**\n",
    "*Data Visualization Techniques*: The culmination of the analysis was presented through visualizations that effectively communicated the identified frequent movement patterns and cross-species behavioral trends. These visual representations not only enhanced understanding but also served as a valuable resource for further interpretation.\n",
    "\n",
    "**Conclusion**\n",
    "The analysis provided a systematic approach to extract insights from raw movement data. By deciphering frequent patterns within individual animal behaviors and uncovering shared tendencies across species, this work contributed to a comprehensive understanding of common behavioral traits. The visualizations generated from this analysis serve as a powerful tool for researchers, enabling them to navigate the complexities of animal movement behaviors and their interactions effectively.\n",
    "\n"
   ]
  },
  {
   "cell_type": "markdown",
   "id": "9239a82a",
   "metadata": {},
   "source": [
    "## Importing and basic preprocessing\n",
    "\n",
    "\n",
    "- The dataset of animal movement data is read from a CSV file.\n",
    "- The data is processed by resampling it into hourly intervals for each unique animal identifier.\n",
    "- The data is resampled using median values, with the omission of missing values, and the inclusion of the animal identifier.\n",
    "\n"
   ]
  },
  {
   "cell_type": "code",
   "execution_count": 30,
   "id": "47520f4b",
   "metadata": {},
   "outputs": [],
   "source": [
    "import pandas as pd\n",
    "import numpy as np\n",
    "import plotly.express as px\n",
    "import random\n",
    "import plotly.graph_objects as go\n"
   ]
  },
  {
   "cell_type": "code",
   "execution_count": 57,
   "id": "825c1a2b",
   "metadata": {},
   "outputs": [],
   "source": [
    "df = pd.read_csv('data/BCI-movement-filtered.csv')\n",
    "resampled_list = []\n",
    "for animal in pd.unique(df['individual-local-identifier']):\n",
    "    animal_df = df[df['individual-local-identifier'] == animal]\n",
    "\n",
    "    # Extract the relevant columns and convert the timestamp to datetime\n",
    "    danieldf = animal_df.loc[:, ['location-lat', 'location-long', 'study-local-timestamp']]\n",
    "    danieldf['study-local-timestamp'] = pd.to_datetime(danieldf['study-local-timestamp'], format='mixed')\n",
    "\n",
    "    # Resample the data to 1-hour intervals\n",
    "    \n",
    "#     resampled_data = danieldf.resample('1H', on='study-local-timestamp').median()\n",
    "#     resampled_data.dropna(inplace=True)\n",
    "#     resampled_data.reset_index(inplace=True)\n",
    "\n",
    "\n",
    "    # Change the animal identifier to a variable\n",
    "    resampled_data['individual-local-identifier'] = animal\n",
    "    resampled_list.append(resampled_data)\n",
    "resampled_data = pd.concat(resampled_list, ignore_index=True)\n",
    "# resampled_data.columns = ['ts', 'lat', 'lon', 'id']"
   ]
  },
  {
   "cell_type": "code",
   "execution_count": 59,
   "id": "49ec0cf4",
   "metadata": {},
   "outputs": [],
   "source": [
    "pqr=df.loc[:, ['location-lat', 'location-long', 'study-local-timestamp', 'individual-local-identifier']]\n",
    "pqr.columns=[ 'Lat', 'Lon','Date/Time', 'ID']\n",
    "pqr.to_csv('bandar.csv',index=False)"
   ]
  },
  {
   "cell_type": "markdown",
   "id": "bbbdcc7b",
   "metadata": {},
   "source": [
    "## Visualization\n",
    "This code performs data visualization using the Plotly library to display animal movement patterns on a map.\n",
    "\n",
    "\n",
    "\n",
    "\n",
    "\n"
   ]
  },
  {
   "cell_type": "code",
   "execution_count": 36,
   "id": "dccb4f75",
   "metadata": {
    "scrolled": false
   },
   "outputs": [
    {
     "ename": "SyntaxError",
     "evalue": "incomplete input (3832197793.py, line 62)",
     "output_type": "error",
     "traceback": [
      "\u001b[0;31m---------------------------------------------------------------------------\u001b[0m",
      "\u001b[0;31mSyntaxError\u001b[0m                               Traceback (most recent call last)",
      "File \u001b[0;32m~/miniconda3/lib/python3.10/site-packages/IPython/core/compilerop.py:86\u001b[0m, in \u001b[0;36mCachingCompiler.ast_parse\u001b[0;34m(self, source, filename, symbol)\u001b[0m\n\u001b[1;32m     81\u001b[0m \u001b[38;5;28;01mdef\u001b[39;00m \u001b[38;5;21mast_parse\u001b[39m(\u001b[38;5;28mself\u001b[39m, source, filename\u001b[38;5;241m=\u001b[39m\u001b[38;5;124m'\u001b[39m\u001b[38;5;124m<unknown>\u001b[39m\u001b[38;5;124m'\u001b[39m, symbol\u001b[38;5;241m=\u001b[39m\u001b[38;5;124m'\u001b[39m\u001b[38;5;124mexec\u001b[39m\u001b[38;5;124m'\u001b[39m):\n\u001b[1;32m     82\u001b[0m \u001b[38;5;250m    \u001b[39m\u001b[38;5;124;03m\"\"\"Parse code to an AST with the current compiler flags active.\u001b[39;00m\n\u001b[1;32m     83\u001b[0m \n\u001b[1;32m     84\u001b[0m \u001b[38;5;124;03m    Arguments are exactly the same as ast.parse (in the standard library),\u001b[39;00m\n\u001b[1;32m     85\u001b[0m \u001b[38;5;124;03m    and are passed to the built-in compile function.\"\"\"\u001b[39;00m\n\u001b[0;32m---> 86\u001b[0m     \u001b[38;5;28;01mreturn\u001b[39;00m \u001b[38;5;28;43mcompile\u001b[39;49m\u001b[43m(\u001b[49m\u001b[43msource\u001b[49m\u001b[43m,\u001b[49m\u001b[43m \u001b[49m\u001b[43mfilename\u001b[49m\u001b[43m,\u001b[49m\u001b[43m \u001b[49m\u001b[43msymbol\u001b[49m\u001b[43m,\u001b[49m\u001b[43m \u001b[49m\u001b[38;5;28;43mself\u001b[39;49m\u001b[38;5;241;43m.\u001b[39;49m\u001b[43mflags\u001b[49m\u001b[43m \u001b[49m\u001b[38;5;241;43m|\u001b[39;49m\u001b[43m \u001b[49m\u001b[43mPyCF_ONLY_AST\u001b[49m\u001b[43m,\u001b[49m\u001b[43m \u001b[49m\u001b[38;5;241;43m1\u001b[39;49m\u001b[43m)\u001b[49m\n",
      "\u001b[0;31mSyntaxError\u001b[0m: incomplete input (3832197793.py, line 62)"
     ]
    }
   ],
   "source": [
    "#smalldf = resampled_data[resampled_data['id'] == 'Olenna Tyrell']\n",
    "smalldfs = []\n",
    "unique_animal_ids = resampled_data['id'].unique()\n",
    "\n",
    "for animal_id in unique_animal_ids:\n",
    "    smalldf = resampled_data[resampled_data['id'] == animal_id].copy()\n",
    "\n",
    "    # Generate a color for this specific animal\n",
    "    animal_color = '#' + ''.join([random.choice('0123456789ABCDEF') for _ in range(6)])\n",
    "    \n",
    "    # Assign the color to all rows of this animal's DataFrame\n",
    "    smalldf['color'] = animal_color\n",
    "\n",
    "    smalldfs.append(smalldf)\n",
    "\n",
    "\n",
    "\n",
    "def plotting(smalldf, title):\n",
    "    \n",
    "    mapboxtoken=\"pk.eyJ1IjoiYWJyb2xzbSIsImEiOiJjbGt5aHhmMDYwMnBxM25vMWRrdHl3Z2E3In0.NzmidKIzpJRKKYXyLcXwhw\"\n",
    "\n",
    "    fig = go.Figure()\n",
    "\n",
    "    fig.add_trace(\n",
    "        go.Scattermapbox(\n",
    "            lat=smalldf['lat'],\n",
    "            lon=smalldf['lon'],\n",
    "#             mode='markers+lines+text',\n",
    "            mode='markers+text',\n",
    "            marker=dict(size=10, color=smalldf['color']),\n",
    "            text= smalldf['ts'].dt.strftime('%D %H:%M') + ' ' + smalldf['id'],\n",
    "            hoverinfo='text',\n",
    "             line=dict(color='grey',width=1),\n",
    "            textfont=dict(color='white', size=14),\n",
    "        )\n",
    "    )\n",
    "\n",
    "        # Update layout for the plot\n",
    "    fig.update_layout(\n",
    "            title=f'{title}',\n",
    "            xaxis_title='UTM Easting',\n",
    "            yaxis_title='UTM Northing',\n",
    "            hovermode='closest',\n",
    "            mapbox=dict(\n",
    "                accesstoken=mapboxtoken,\n",
    "                style='satellite',\n",
    "                bearing=0,\n",
    "                center=dict(lat=smalldf['lat'].mean(), lon=smalldf['lon'].mean()),\n",
    "                zoom=16\n",
    "            ),\n",
    "            width=1980,\n",
    "            height=1024\n",
    "        )\n",
    "\n",
    "        # Show the plot\n",
    "    fig.show()\n",
    "    \n",
    "for small_v in smalldfs:\n",
    "    1\n",
    "#     plotting(small_v, 'Daniel')\n",
    "#     break\n",
    "\n"
   ]
  },
  {
   "cell_type": "markdown",
   "id": "7f0e4a70",
   "metadata": {},
   "source": [
    "\n",
    "## `get_day_times_panama` Function\n",
    "\n",
    "This function assigns a segment label ('M', 'D', 'E', 'N', 'F') to a given time in the Panama timezone. It categorizes the input time into segments: morning, day, evening, night, or undefined ('F') based on predefined time ranges. \n",
    "\n",
    "### Input:\n",
    "- `current_time_str` (str): A time string in the format '%H:%M' representing the current time.\n",
    "\n",
    "### Output:\n",
    "Returns a string representing the segment label associated with the input time.\n",
    "\n",
    "## `calculate_distance` Function\n",
    "\n",
    "This function calculates the distance between two GPS coordinates using the geopy library's `geodesic` function. It computes the distance in meters between two points on the Earth's surface.\n",
    "\n",
    "### Input:\n",
    "- `coord1` (tuple): A tuple containing latitude and longitude of the first point.\n",
    "- `coord2` (tuple): A tuple containing latitude and longitude of the second point.\n",
    "\n",
    "### Output:\n",
    "Returns the distance in meters between the two given coordinates.\n",
    "\n",
    "## `calculate_direction` Function\n",
    "\n",
    "This function calculates the cardinal direction ('N', 'S', 'E', 'W') based on the relative positions of two GPS coordinates. It utilizes trigonometric calculations to determine the direction.\n",
    "\n",
    "### Input:\n",
    "- `lat1` (float): Latitude of the first point.\n",
    "- `lon1` (float): Longitude of the first point.\n",
    "- `lat2` (float): Latitude of the second point.\n",
    "- `lon2` (float): Longitude of the second point.\n",
    "\n",
    "### Output:\n",
    "Returns a string representing the direction or a combination of directions ('NE', 'SE', 'SW', 'NW').\n",
    "\n",
    "## `directional_mapping` Function\n",
    "\n",
    "This function performs directional mapping and segment labeling on a DataFrame containing GPS data. It calculates distances and directions between consecutive points, assigns direction labels, and segments based on time.\n",
    "\n",
    "### Input:\n",
    "- `df` (pandas DataFrame): A DataFrame containing GPS data with columns 'ts' (timestamp), 'lat' (latitude), and 'lon' (longitude).\n",
    "\n",
    "### Output:\n",
    "Returns a tuple:\n",
    "- A string concatenating all the direction labels.\n",
    "- A modified DataFrame with added columns ('prev_lat', 'prev_lon', 'distance', 'direction', 'Segment').\n",
    "\n"
   ]
  },
  {
   "cell_type": "code",
   "execution_count": 37,
   "id": "d39d277b",
   "metadata": {},
   "outputs": [
    {
     "name": "stdout",
     "output_type": "stream",
     "text": [
      "14\n"
     ]
    }
   ],
   "source": [
    "#\n",
    "from geopy.distance import geodesic\n",
    "import math\n",
    "\n",
    "\n",
    "from datetime import datetime, time, timedelta\n",
    "## Integrate the date/time information while doing analysis \n",
    "def get_day_times_panama(current_time_str):\n",
    "    # Convert the current time string to a datetime object\n",
    "    current_time = datetime.strptime(current_time_str, '%H:%M').time()\n",
    "\n",
    "    # Define time ranges for morning, rest, and night\n",
    "    morning_start = time(6, 0)\n",
    "    morning_end = time(11, 0)\n",
    "    rest_start = time(16, 0)\n",
    "    rest_end = time(19, 0)\n",
    "\n",
    "    # Determine the segment for the given time\n",
    "    if morning_start <= current_time < morning_end:\n",
    "        return 'M'\n",
    "    elif morning_end <= current_time <rest_start:\n",
    "        return 'D'\n",
    "    elif rest_start <= current_time < rest_end:\n",
    "        return 'E'\n",
    "    elif time(19, 0) <= current_time < time(23, 0):\n",
    "        return 'N'\n",
    "    elif time(0, 0) >= current_time < time(6, 0):\n",
    "        return 'N'\n",
    "    else:\n",
    "        return 'F'\n",
    "\n",
    "# Create a pandas DataFrame with a column containing time values\n",
    "\n",
    "\n",
    "# Convert Timestamp to string and apply the function to the 'Time' column\n",
    "\n",
    "\n",
    "\n",
    "# Function to calculate the distance between two GPS positions using geopy\n",
    "def calculate_distance(coord1, coord2):\n",
    "    return geodesic(coord1, coord2).meters\n",
    "\n",
    "def calculate_direction(lat1, lon1, lat2, lon2):\n",
    "    direction = \"\"\n",
    "    if lat1 < lat2:\n",
    "        direction += \"N\"\n",
    "    elif lat1 > lat2:\n",
    "        direction += \"S\"\n",
    "        \n",
    "    if lon1 < lon2:\n",
    "        direction += \"E\"\n",
    "    elif lon1 > lon2:\n",
    "        direction += \"W\"\n",
    "        \n",
    "    return direction\n",
    "\n",
    "\n",
    "\n",
    "def calculate_direction(lat1, lon1, lat2, lon2):\n",
    "    # Convert latitude and longitude from degrees to radians\n",
    "    lat1_rad = math.radians(lat1)\n",
    "    lon1_rad = math.radians(lon1)\n",
    "    lat2_rad = math.radians(lat2)\n",
    "    lon2_rad = math.radians(lon2)\n",
    "\n",
    "    # Calculate the differences in latitudes and longitudes\n",
    "    dlat = lat2_rad - lat1_rad\n",
    "    dlon = lon2_rad - lon1_rad\n",
    "\n",
    "    # Calculate the angle using atan2 and convert it to degrees\n",
    "    angle = math.degrees(math.atan2(dlat, dlon))\n",
    "\n",
    "    # Normalize the angle to be within the range of [0, 360)\n",
    "    angle = (angle + 360) % 360\n",
    "\n",
    "    # Map the angle to the corresponding direction\n",
    "    if 337.5 <= angle < 22.5:\n",
    "        return 'W'\n",
    "    elif 22.5 <= angle < 67.5:\n",
    "        return 'SW'\n",
    "    elif 67.5 <= angle < 112.5:\n",
    "        return 'S'\n",
    "    elif 112.5 <= angle < 157.5:\n",
    "        return 'SE'\n",
    "    elif 157.5 <= angle < 202.5:\n",
    "        return 'E'\n",
    "    elif 202.5 <= angle < 247.5:\n",
    "        return 'NE'\n",
    "    elif 247.5 <= angle < 292.5:\n",
    "        return 'N'\n",
    "    elif 292.5 <= angle < 337.5:\n",
    "        return 'NW'\n",
    "    else:\n",
    "        return ''  # Invalid input or undefined direction\n",
    "\n",
    "    \n",
    "def directional_mapping(df):\n",
    "    # Create a copy of the DataFrame to avoid modifying the original DataFrame\n",
    "    df_copy = df.copy()\n",
    "\n",
    "    # Rename the columns in the copied DataFrame\n",
    "    #df_copy.columns = ['ts', 'lat', 'lon', 'id', 'color']\n",
    "\n",
    "    # Rest of the code remains the same\n",
    "    df_copy['prev_lat'] = df_copy['lat'].shift(1)\n",
    "    df_copy['prev_lon'] = df_copy['lon'].shift(1)\n",
    "\n",
    "    # Calculate the distance in meters from the previous ts\n",
    "    df_copy['distance'] = df_copy.apply(lambda row: calculate_distance(\n",
    "        (row['lat'], row['lon']),\n",
    "        (row['prev_lat'], row['prev_lon'])\n",
    "    ) if pd.notnull(row['prev_lat']) and pd.notnull(row['prev_lon']) and (row['ts'] - df_copy.loc[row.name - 1, 'ts']).seconds / 3600 <= 6 else float('nan'), axis=1)\n",
    "\n",
    "    # Apply the direction label calculation to the DataFrame\n",
    "    df_copy['direction'] = df_copy.apply(lambda row: calculate_direction(\n",
    "        row['lat'], row['lon'], row['prev_lat'], row['prev_lon']), axis=1)\n",
    "\n",
    "    # Drop the lag columns\n",
    "    # df_copy.drop(columns=['prev_lat', 'prev_lon'], inplace=True)\n",
    "\n",
    "    direction_mapping = {'NE': '1', 'SE': '2', 'SW': '3', 'NW': '4', 'N': 'N', 'S': 'S', 'W': 'W', 'E': 'E', '': ' '}\n",
    "    df_copy['direction'] = df_copy['direction'].map(direction_mapping)\n",
    "    df_copy['Segment'] = df_copy['ts'].dt.strftime('%H:%M').apply(lambda x: get_day_times_panama(x))\n",
    "\n",
    "    #df_copy['Movement'] = df_copy['direction'] #+ df_copy['Segment']\n",
    "    return ''.join(df_copy['direction']).replace(' ',''), df_copy\n",
    "\n",
    "patterns = []\n",
    "smalldfs_updated = []\n",
    "for smalldf in smalldfs:\n",
    "    pattern ,smalldf= directional_mapping(smalldf)\n",
    "    patterns.append(pattern)\n",
    "    smalldfs_updated.append(smalldf)\n",
    "smalldfs = smalldfs_updated\n",
    "print(len(patterns))"
   ]
  },
  {
   "cell_type": "code",
   "execution_count": 39,
   "id": "7b378719",
   "metadata": {},
   "outputs": [
    {
     "data": {
      "text/plain": [
       "'S2S11144E1SS3S3N114NEN2N444ES111111333NNN1E1S34S41E1E1SSS3N22NNNNE33N4EE3114NNENSS411E1NEE3N332S3E1NNEE2334N2SNEEE334N431N222NEN2N4NS3NS2213411ES321241EN411SSEEE1EEEE11S2EE3N4E1N3SE2SS2ES4N443S22EN11E1N2SN13114N14SNSS3421NN144332S1SS4214NNN3SSE1E4341ES42S3E4444NNEE11SSN1E4E14412NN2N11EE23244NS222EE4N3S4NN2EN1EE2422S343S3321NES312NN1EE422ES324N144S42EEEE32N321ENN1333NNE3ENN334NNE4SSSS34NN1NE14N2E33SNN31ENS2E3EE1E1342SE4S223111NN2N411S22SS114ES3S34EE1N4242SS334NNN12N3N4NE1EN2E43N4S3S2221NNS332ENNS2EE4E33341NN11N14ES32S22N1N4E4S2222EEEE14N41SS4E4E11442233342NN1SNN12S33S342E2E4N4144N4SSE223NE4S14N3S2S41E444S33224NSN12E1S1N33233332NENS3134ENN3S32S42E24414N1NESE2S443N3223SEEEES441SSS44411223'"
      ]
     },
     "execution_count": 39,
     "metadata": {},
     "output_type": "execute_result"
    }
   ],
   "source": [
    "patterns[0]"
   ]
  },
  {
   "cell_type": "markdown",
   "id": "dc0a09fd",
   "metadata": {},
   "source": [
    "## Frequent Patterns\n",
    "\n",
    "## `find_frequent_patterns` Function\n",
    "\n",
    "This function aims to identify frequent patterns within a given string, based on specified criteria. It operates by sliding a window over the string, generating patterns of varying lengths, and then counting their occurrences. The patterns are filtered to exclude those containing a specific character (in this case, `\".\"`). The function returns a list of frequent patterns sorted by a calculated metric.\n",
    "\n",
    "### Input Parameters:\n",
    "\n",
    "- `string` (str): The input string from which patterns are extracted and analyzed.\n",
    "- `min_length` (int): The minimum length of patterns to consider.\n",
    "- `max_length` (int): The maximum length of patterns to consider.\n",
    "- `min_frequency` (int): The minimum count required for a pattern to be considered frequent.\n",
    "\n",
    "### Output:\n",
    "\n",
    "The function returns a list of tuples, each containing a frequent pattern and its corresponding count, meeting the specified criteria. The list is sorted in descending order based on a calculated metric that considers both pattern length and occurrence count.\n"
   ]
  },
  {
   "cell_type": "code",
   "execution_count": 46,
   "id": "3dc7c158",
   "metadata": {},
   "outputs": [
    {
     "name": "stdout",
     "output_type": "stream",
     "text": [
      "[('334N', 4), ('EEEE', 4), ('114N', 3), ('N2N4', 3), ('1111', 3), ('4NNE', 3), ('ES32', 3), ('EEE1', 3), ('S222', 3), ('S332', 3), ('34NN', 3), ('NEN2N4', 2), ('1333NN', 2), ('NEN2N', 2), ('EN2N4', 2), ('11111', 2), ('1333N', 2), ('333NN', 2), ('3114N', 2), ('11E1N', 2), ('N411S', 2), ('EEEE1', 2), ('EE11S', 2), ('222EE', 2), ('2EEEE', 2), ('334NN', 2), ('E4S22', 2), ('14ES3', 2), ('S111', 2), ('1144', 2), ('E1SS', 2), ('S3S3', 2), ('NEN2', 2), ('EN2N', 2), ('1333', 2), ('333N', 2), ('33NN', 2), ('NNN1', 2), ('NN1E', 2), ('1E1S', 2), ('S41E', 2), ('E1E1', 2), ('1SSS', 2), ('SSS3', 2), ('NNE3', 2), ('3N4E', 2), ('3114', 2), ('14NN', 2), ('NENS', 2), ('411E', 2), ('11E1', 2), ('1E1N', 2), ('EE3N', 2), ('N332', 2), ('332S', 2), ('2S3E', 2), ('NNEE', 2), ('EE23', 2), ('N2SN', 2), ('EEE3', 2), ('2NEN', 2), ('NS22', 2), ('N411', 2), ('411S', 2), ('11SS', 2), ('SEEE', 2), ('EE1E', 2), ('EE11', 2), ('E11S', 2), ('11S2', 2), ('S2EE', 2), ('SE2S', 2), ('3S22', 2), ('2EN1', 2), ('N11E', 2), ('14N1', 2), ('4N14', 2), ('SS34', 2), ('S342', 2), ('21NN', 2), ('1NN1', 2), ('N144', 2), ('1SS4', 2), ('4NNN', 2), ('NN3S', 2), ('E444', 2), ('E4E1', 2), ('12NN', 2), ('NN2N', 2), ('1EE2', 2), ('222E', 2), ('22EE', 2), ('2EE4', 2), ('4N3S', 2), ('N1EE', 2), ('1NES', 2), ('2NN1', 2), ('S42E', 2), ('2EEE', 2), ('ENN3', 2), ('NE4S', 2), ('N1NE', 2), ('E14N', 2), ('NS2E', 2), ('E4S2', 2), ('4S22', 2), ('14ES', 2), ('4ES3', 2), ('3S34', 2), ('NN12', 2), ('3334', 2), ('S32S', 2), ('4N41', 2), ('41SS', 2), ('2333', 2), ('42E2', 2)]\n"
     ]
    }
   ],
   "source": [
    "\n",
    "from collections import defaultdict\n",
    "\n",
    "def find_frequent_patterns(string, min_length, max_length, min_frequency):\n",
    "    patterns = defaultdict(lambda: 0)\n",
    "\n",
    "    for length in range(min_length, max_length + 1):\n",
    "        for i in range(len(string) - length + 1):\n",
    "            pattern = string[i:i+length]\n",
    "            if '.' not in pattern:  # Skip patterns containing \".\"\n",
    "                patterns[pattern] += 1\n",
    "\n",
    "    frequent_patterns = [(pattern, count) for pattern, count in patterns.items() if count >= min_frequency]\n",
    "    sorted_patterns = sorted(frequent_patterns, key=lambda item: len(item[0]) * item[1], reverse=True)\n",
    "\n",
    "    return sorted_patterns\n",
    "\n",
    "\n",
    "# Example string\n",
    "frequent_patterns = []\n",
    "for pattern in patterns:\n",
    "    directional_string = pattern# \"NORTHEASTNORTHWESTSOUTHEASTSOUTHWEST\"\n",
    "\n",
    "    min_length = 4\n",
    "    max_length = 10\n",
    "    min_frequency = 2\n",
    "\n",
    "    frequent_pattern = find_frequent_patterns(directional_string, min_length, max_length, min_frequency)\n",
    "    frequent_patterns.append(frequent_pattern)\n",
    "#     print(frequent_pattern)\n",
    "print(frequent_patterns[0])"
   ]
  },
  {
   "cell_type": "markdown",
   "id": "f5074d9d",
   "metadata": {},
   "source": [
    "## `common_pattern_mining` Function\n",
    "\n",
    "This function processes frequent patterns to identify and group common patterns along with their associated identifiers. It generates modified lists of patterns with additional elements (unique identifiers), aggregates those lists, and finally identifies and retains common patterns with a specified frequency.\n",
    "\n",
    "### Input:\n",
    "- `frequent_patterns` (list of lists): A list containing frequent patterns, where each pattern is represented as a list of tuples. Each tuple contains a pattern element and its occurrence count.\n",
    "\n",
    "### Output:\n",
    "Returns a tuple:\n",
    "- A list of tuples, each containing a common pattern and a list of associated identifiers.\n",
    "- A flattened list containing all modified pattern-element-identifier tuples.\n"
   ]
  },
  {
   "cell_type": "code",
   "execution_count": 47,
   "id": "e609c7d1",
   "metadata": {},
   "outputs": [
    {
     "name": "stdout",
     "output_type": "stream",
     "text": [
      "14\n"
     ]
    },
    {
     "data": {
      "text/plain": [
       "[('34NN', ['Daniel', 'Drogon']),\n",
       " ('1144', ['Daniel', 'Viserion_2']),\n",
       " ('411S', ['Daniel', 'Magnolia']),\n",
       " ('11SS', ['Daniel', 'Magnolia']),\n",
       " ('EE11', ['Daniel', 'Magnolia']),\n",
       " ('S2EE', ['Daniel', 'Magnolia', 'Jessy']),\n",
       " ('3S22', ['Daniel', 'John Snow']),\n",
       " ('N11E', ['Daniel', 'Jessy']),\n",
       " ('1NN1', ['Daniel', 'Jessy', 'Viserion_2']),\n",
       " ('2EE4', ['Daniel', 'Magnolia']),\n",
       " ('S33S', ['Magnolia', 'Jessy', 'Viserion_2']),\n",
       " ('111E', ['Magnolia', 'Jessy']),\n",
       " ('11EE', ['Magnolia', 'Jessy']),\n",
       " ('N4SS', ['Jessy', 'Drogon']),\n",
       " ('E333', ['Jessy', 'Drogon']),\n",
       " ('NES3', ['Jessy', 'Drogon']),\n",
       " ('3S23', ['Drogon', 'John Snow']),\n",
       " ('34N1', ['Drogon', 'Olenna Tyrell']),\n",
       " ('332E', ['John Snow', 'Viserion_2']),\n",
       " ('NNS2', ['Samwell Tarly', 'Daenerys'])]"
      ]
     },
     "execution_count": 47,
     "metadata": {},
     "output_type": "execute_result"
    }
   ],
   "source": [
    "def common_pattern_mining(frequent_patterns):\n",
    "    index = 0\n",
    "    modified_lists = []\n",
    "    for frequent_pattern in frequent_patterns:\n",
    "        original_list = frequent_pattern\n",
    "        extra_element = resampled_data['id'].unique()[index]\n",
    "\n",
    "        modified_lists.append([(item[0], extra_element) for item in original_list])\n",
    "        index += 1\n",
    "    print(len(modified_lists))\n",
    "    #     print(modified_list)\n",
    "    flattened_list = [item for sublist in modified_lists for item in sublist]\n",
    "\n",
    "    grouped_data = {}\n",
    "\n",
    "    for key, value in flattened_list:\n",
    "        if key in grouped_data:\n",
    "            grouped_data[key].append(value)\n",
    "        else:\n",
    "            grouped_data[key] = [value]\n",
    "\n",
    "    result = [(key, values) for key, values in grouped_data.items() if len(values) >= 2]\n",
    "\n",
    "    return result, flattened_list\n",
    "    \n",
    "common_patterns, pattern_list = common_pattern_mining(frequent_patterns)\n",
    "common_patterns"
   ]
  },
  {
   "cell_type": "markdown",
   "id": "bbf7ae7b",
   "metadata": {},
   "source": [
    "Finding the rows/indeces where the particular patterns were found "
   ]
  },
  {
   "cell_type": "code",
   "execution_count": 48,
   "id": "39db9133",
   "metadata": {},
   "outputs": [
    {
     "data": {
      "text/html": [
       "<div>\n",
       "<style scoped>\n",
       "    .dataframe tbody tr th:only-of-type {\n",
       "        vertical-align: middle;\n",
       "    }\n",
       "\n",
       "    .dataframe tbody tr th {\n",
       "        vertical-align: top;\n",
       "    }\n",
       "\n",
       "    .dataframe thead th {\n",
       "        text-align: right;\n",
       "    }\n",
       "</style>\n",
       "<table border=\"1\" class=\"dataframe\">\n",
       "  <thead>\n",
       "    <tr style=\"text-align: right;\">\n",
       "      <th></th>\n",
       "      <th>ts</th>\n",
       "      <th>lat</th>\n",
       "      <th>lon</th>\n",
       "      <th>id</th>\n",
       "      <th>color</th>\n",
       "      <th>prev_lat</th>\n",
       "      <th>prev_lon</th>\n",
       "      <th>distance</th>\n",
       "      <th>direction</th>\n",
       "      <th>Segment</th>\n",
       "    </tr>\n",
       "  </thead>\n",
       "  <tbody>\n",
       "    <tr>\n",
       "      <th>0</th>\n",
       "      <td>2022-11-16 12:00:00</td>\n",
       "      <td>9.159576</td>\n",
       "      <td>-79.837913</td>\n",
       "      <td>Daniel</td>\n",
       "      <td>#8766EB</td>\n",
       "      <td>9.160940</td>\n",
       "      <td>-79.837188</td>\n",
       "      <td>170.621740</td>\n",
       "      <td>3</td>\n",
       "      <td>D</td>\n",
       "    </tr>\n",
       "    <tr>\n",
       "      <th>1</th>\n",
       "      <td>2022-11-16 13:00:00</td>\n",
       "      <td>9.159661</td>\n",
       "      <td>-79.838024</td>\n",
       "      <td>Daniel</td>\n",
       "      <td>#8766EB</td>\n",
       "      <td>9.159576</td>\n",
       "      <td>-79.837913</td>\n",
       "      <td>15.366753</td>\n",
       "      <td>4</td>\n",
       "      <td>D</td>\n",
       "    </tr>\n",
       "    <tr>\n",
       "      <th>2</th>\n",
       "      <td>2022-11-16 14:00:00</td>\n",
       "      <td>9.160352</td>\n",
       "      <td>-79.837851</td>\n",
       "      <td>Daniel</td>\n",
       "      <td>#8766EB</td>\n",
       "      <td>9.159661</td>\n",
       "      <td>-79.838024</td>\n",
       "      <td>78.721281</td>\n",
       "      <td>N</td>\n",
       "      <td>D</td>\n",
       "    </tr>\n",
       "    <tr>\n",
       "      <th>3</th>\n",
       "      <td>2022-11-16 15:00:00</td>\n",
       "      <td>9.161043</td>\n",
       "      <td>-79.838017</td>\n",
       "      <td>Daniel</td>\n",
       "      <td>#8766EB</td>\n",
       "      <td>9.160352</td>\n",
       "      <td>-79.837851</td>\n",
       "      <td>78.582639</td>\n",
       "      <td>N</td>\n",
       "      <td>D</td>\n",
       "    </tr>\n",
       "    <tr>\n",
       "      <th>4</th>\n",
       "      <td>2022-11-20 09:00:00</td>\n",
       "      <td>9.155785</td>\n",
       "      <td>-79.838357</td>\n",
       "      <td>Daniel</td>\n",
       "      <td>#8766EB</td>\n",
       "      <td>9.158521</td>\n",
       "      <td>-79.837188</td>\n",
       "      <td>328.755908</td>\n",
       "      <td>3</td>\n",
       "      <td>M</td>\n",
       "    </tr>\n",
       "    <tr>\n",
       "      <th>5</th>\n",
       "      <td>2022-11-20 10:00:00</td>\n",
       "      <td>9.157456</td>\n",
       "      <td>-79.840714</td>\n",
       "      <td>Daniel</td>\n",
       "      <td>#8766EB</td>\n",
       "      <td>9.155785</td>\n",
       "      <td>-79.838357</td>\n",
       "      <td>318.130397</td>\n",
       "      <td>4</td>\n",
       "      <td>M</td>\n",
       "    </tr>\n",
       "    <tr>\n",
       "      <th>6</th>\n",
       "      <td>2022-11-20 11:00:00</td>\n",
       "      <td>9.159170</td>\n",
       "      <td>-79.840736</td>\n",
       "      <td>Daniel</td>\n",
       "      <td>#8766EB</td>\n",
       "      <td>9.157456</td>\n",
       "      <td>-79.840714</td>\n",
       "      <td>189.632969</td>\n",
       "      <td>N</td>\n",
       "      <td>D</td>\n",
       "    </tr>\n",
       "    <tr>\n",
       "      <th>7</th>\n",
       "      <td>2022-11-20 12:00:00</td>\n",
       "      <td>9.159909</td>\n",
       "      <td>-79.840502</td>\n",
       "      <td>Daniel</td>\n",
       "      <td>#8766EB</td>\n",
       "      <td>9.159170</td>\n",
       "      <td>-79.840736</td>\n",
       "      <td>85.650441</td>\n",
       "      <td>N</td>\n",
       "      <td>D</td>\n",
       "    </tr>\n",
       "    <tr>\n",
       "      <th>8</th>\n",
       "      <td>2022-12-14 13:00:00</td>\n",
       "      <td>9.158845</td>\n",
       "      <td>-79.840317</td>\n",
       "      <td>Daniel</td>\n",
       "      <td>#8766EB</td>\n",
       "      <td>9.158871</td>\n",
       "      <td>-79.840306</td>\n",
       "      <td>3.137213</td>\n",
       "      <td>3</td>\n",
       "      <td>D</td>\n",
       "    </tr>\n",
       "    <tr>\n",
       "      <th>9</th>\n",
       "      <td>2022-12-14 14:00:00</td>\n",
       "      <td>9.158944</td>\n",
       "      <td>-79.840482</td>\n",
       "      <td>Daniel</td>\n",
       "      <td>#8766EB</td>\n",
       "      <td>9.158845</td>\n",
       "      <td>-79.840317</td>\n",
       "      <td>21.142534</td>\n",
       "      <td>4</td>\n",
       "      <td>D</td>\n",
       "    </tr>\n",
       "    <tr>\n",
       "      <th>10</th>\n",
       "      <td>2022-12-14 15:00:00</td>\n",
       "      <td>9.159482</td>\n",
       "      <td>-79.840496</td>\n",
       "      <td>Daniel</td>\n",
       "      <td>#8766EB</td>\n",
       "      <td>9.158944</td>\n",
       "      <td>-79.840482</td>\n",
       "      <td>59.454314</td>\n",
       "      <td>N</td>\n",
       "      <td>D</td>\n",
       "    </tr>\n",
       "    <tr>\n",
       "      <th>11</th>\n",
       "      <td>2022-12-14 16:00:00</td>\n",
       "      <td>9.161781</td>\n",
       "      <td>-79.840073</td>\n",
       "      <td>Daniel</td>\n",
       "      <td>#8766EB</td>\n",
       "      <td>9.159482</td>\n",
       "      <td>-79.840496</td>\n",
       "      <td>258.507586</td>\n",
       "      <td>N</td>\n",
       "      <td>E</td>\n",
       "    </tr>\n",
       "  </tbody>\n",
       "</table>\n",
       "</div>"
      ],
      "text/plain": [
       "                    ts       lat        lon      id    color  prev_lat  \\\n",
       "0  2022-11-16 12:00:00  9.159576 -79.837913  Daniel  #8766EB  9.160940   \n",
       "1  2022-11-16 13:00:00  9.159661 -79.838024  Daniel  #8766EB  9.159576   \n",
       "2  2022-11-16 14:00:00  9.160352 -79.837851  Daniel  #8766EB  9.159661   \n",
       "3  2022-11-16 15:00:00  9.161043 -79.838017  Daniel  #8766EB  9.160352   \n",
       "4  2022-11-20 09:00:00  9.155785 -79.838357  Daniel  #8766EB  9.158521   \n",
       "5  2022-11-20 10:00:00  9.157456 -79.840714  Daniel  #8766EB  9.155785   \n",
       "6  2022-11-20 11:00:00  9.159170 -79.840736  Daniel  #8766EB  9.157456   \n",
       "7  2022-11-20 12:00:00  9.159909 -79.840502  Daniel  #8766EB  9.159170   \n",
       "8  2022-12-14 13:00:00  9.158845 -79.840317  Daniel  #8766EB  9.158871   \n",
       "9  2022-12-14 14:00:00  9.158944 -79.840482  Daniel  #8766EB  9.158845   \n",
       "10 2022-12-14 15:00:00  9.159482 -79.840496  Daniel  #8766EB  9.158944   \n",
       "11 2022-12-14 16:00:00  9.161781 -79.840073  Daniel  #8766EB  9.159482   \n",
       "\n",
       "     prev_lon    distance direction Segment  \n",
       "0  -79.837188  170.621740         3       D  \n",
       "1  -79.837913   15.366753         4       D  \n",
       "2  -79.838024   78.721281         N       D  \n",
       "3  -79.837851   78.582639         N       D  \n",
       "4  -79.837188  328.755908         3       M  \n",
       "5  -79.838357  318.130397         4       M  \n",
       "6  -79.840714  189.632969         N       D  \n",
       "7  -79.840736   85.650441         N       D  \n",
       "8  -79.840306    3.137213         3       D  \n",
       "9  -79.840317   21.142534         4       D  \n",
       "10 -79.840482   59.454314         N       D  \n",
       "11 -79.840496  258.507586         N       E  "
      ]
     },
     "execution_count": 48,
     "metadata": {},
     "output_type": "execute_result"
    }
   ],
   "source": [
    "import re\n",
    "\n",
    "def find_all_pattern_rows(smalldf, patterns):\n",
    "    all_start_positions = []  # Initialize a list to store all start positions\n",
    "\n",
    "    pattern_string = ''.join(smalldf['direction'])\n",
    "    \n",
    "    for pattern in patterns:\n",
    "        occurrences = re.finditer(pattern, pattern_string)\n",
    "        start_positions = [match.start() for match in occurrences]\n",
    "        all_start_positions.extend(start_positions)  # Add start positions to the list\n",
    "        \n",
    "    return all_start_positions  # Return the list of all start positions\n",
    "\n",
    "\n",
    "combined_df = pd.concat(smalldfs, ignore_index=True)\n",
    "filtered_rows = combined_df[combined_df['id'].isin(['Daniel', 'Magnolia', 'Jessy'])]\n",
    "\n",
    "# rows = (find_all_pattern_rows(filtered_rows, ['S2EE']))\n",
    "rows = (find_all_pattern_rows(filtered_rows, ['34NN']))\n",
    "\n",
    "result_rows = []\n",
    "\n",
    "for index in rows:\n",
    "    if index + 3 < len(combined_df):\n",
    "        result_rows.append(combined_df.iloc[index:index+4])\n",
    "    else:\n",
    "        result_rows.append(combined_df.iloc[index:])\n",
    "\n",
    "result = pd.concat(result_rows)\n",
    "result.reset_index(inplace = True)\n",
    "result.drop(['index'], axis = 1, inplace = True)\n",
    "result"
   ]
  },
  {
   "cell_type": "code",
   "execution_count": 49,
   "id": "12060eb4",
   "metadata": {},
   "outputs": [
    {
     "data": {
      "application/vnd.plotly.v1+json": {
       "config": {
        "plotlyServerURL": "https://plot.ly"
       },
       "data": [
        {
         "hoverinfo": "text",
         "lat": [
          9.1595758,
          9.15966105,
          9.1603518,
          9.161043,
          9.155785349999999,
          9.15745575,
          9.15917015,
          9.15990875,
          9.158844949999999,
          9.15894445,
          9.1594818,
          9.16178085
         ],
         "line": {
          "color": "grey",
          "width": 1
         },
         "lon": [
          -79.8379134,
          -79.8380238,
          -79.8378511,
          -79.8380166,
          -79.83835745,
          -79.8407138,
          -79.84073635,
          -79.84050214999999,
          -79.84031730000001,
          -79.84048154999999,
          -79.8404963,
          -79.84007270000001
         ],
         "marker": {
          "color": [
           "#8766EB",
           "#8766EB",
           "#8766EB",
           "#8766EB",
           "#8766EB",
           "#8766EB",
           "#8766EB",
           "#8766EB",
           "#8766EB",
           "#8766EB",
           "#8766EB",
           "#8766EB"
          ],
          "size": 10
         },
         "mode": "markers+text",
         "text": [
          "11/16/22 12:00 Daniel",
          "11/16/22 13:00 Daniel",
          "11/16/22 14:00 Daniel",
          "11/16/22 15:00 Daniel",
          "11/20/22 09:00 Daniel",
          "11/20/22 10:00 Daniel",
          "11/20/22 11:00 Daniel",
          "11/20/22 12:00 Daniel",
          "12/14/22 13:00 Daniel",
          "12/14/22 14:00 Daniel",
          "12/14/22 15:00 Daniel",
          "12/14/22 16:00 Daniel"
         ],
         "textfont": {
          "color": "white",
          "size": 14
         },
         "type": "scattermapbox"
        }
       ],
       "layout": {
        "height": 1024,
        "hovermode": "closest",
        "mapbox": {
         "accesstoken": "pk.eyJ1IjoiYWJyb2xzbSIsImEiOiJjbGt5aHhmMDYwMnBxM25vMWRrdHl3Z2E3In0.NzmidKIzpJRKKYXyLcXwhw",
         "bearing": 0,
         "center": {
          "lat": 9.159333641666668,
          "lon": -79.83945687500001
         },
         "style": "satellite",
         "zoom": 16
        },
        "template": {
         "data": {
          "bar": [
           {
            "error_x": {
             "color": "#2a3f5f"
            },
            "error_y": {
             "color": "#2a3f5f"
            },
            "marker": {
             "line": {
              "color": "#E5ECF6",
              "width": 0.5
             },
             "pattern": {
              "fillmode": "overlay",
              "size": 10,
              "solidity": 0.2
             }
            },
            "type": "bar"
           }
          ],
          "barpolar": [
           {
            "marker": {
             "line": {
              "color": "#E5ECF6",
              "width": 0.5
             },
             "pattern": {
              "fillmode": "overlay",
              "size": 10,
              "solidity": 0.2
             }
            },
            "type": "barpolar"
           }
          ],
          "carpet": [
           {
            "aaxis": {
             "endlinecolor": "#2a3f5f",
             "gridcolor": "white",
             "linecolor": "white",
             "minorgridcolor": "white",
             "startlinecolor": "#2a3f5f"
            },
            "baxis": {
             "endlinecolor": "#2a3f5f",
             "gridcolor": "white",
             "linecolor": "white",
             "minorgridcolor": "white",
             "startlinecolor": "#2a3f5f"
            },
            "type": "carpet"
           }
          ],
          "choropleth": [
           {
            "colorbar": {
             "outlinewidth": 0,
             "ticks": ""
            },
            "type": "choropleth"
           }
          ],
          "contour": [
           {
            "colorbar": {
             "outlinewidth": 0,
             "ticks": ""
            },
            "colorscale": [
             [
              0,
              "#0d0887"
             ],
             [
              0.1111111111111111,
              "#46039f"
             ],
             [
              0.2222222222222222,
              "#7201a8"
             ],
             [
              0.3333333333333333,
              "#9c179e"
             ],
             [
              0.4444444444444444,
              "#bd3786"
             ],
             [
              0.5555555555555556,
              "#d8576b"
             ],
             [
              0.6666666666666666,
              "#ed7953"
             ],
             [
              0.7777777777777778,
              "#fb9f3a"
             ],
             [
              0.8888888888888888,
              "#fdca26"
             ],
             [
              1,
              "#f0f921"
             ]
            ],
            "type": "contour"
           }
          ],
          "contourcarpet": [
           {
            "colorbar": {
             "outlinewidth": 0,
             "ticks": ""
            },
            "type": "contourcarpet"
           }
          ],
          "heatmap": [
           {
            "colorbar": {
             "outlinewidth": 0,
             "ticks": ""
            },
            "colorscale": [
             [
              0,
              "#0d0887"
             ],
             [
              0.1111111111111111,
              "#46039f"
             ],
             [
              0.2222222222222222,
              "#7201a8"
             ],
             [
              0.3333333333333333,
              "#9c179e"
             ],
             [
              0.4444444444444444,
              "#bd3786"
             ],
             [
              0.5555555555555556,
              "#d8576b"
             ],
             [
              0.6666666666666666,
              "#ed7953"
             ],
             [
              0.7777777777777778,
              "#fb9f3a"
             ],
             [
              0.8888888888888888,
              "#fdca26"
             ],
             [
              1,
              "#f0f921"
             ]
            ],
            "type": "heatmap"
           }
          ],
          "heatmapgl": [
           {
            "colorbar": {
             "outlinewidth": 0,
             "ticks": ""
            },
            "colorscale": [
             [
              0,
              "#0d0887"
             ],
             [
              0.1111111111111111,
              "#46039f"
             ],
             [
              0.2222222222222222,
              "#7201a8"
             ],
             [
              0.3333333333333333,
              "#9c179e"
             ],
             [
              0.4444444444444444,
              "#bd3786"
             ],
             [
              0.5555555555555556,
              "#d8576b"
             ],
             [
              0.6666666666666666,
              "#ed7953"
             ],
             [
              0.7777777777777778,
              "#fb9f3a"
             ],
             [
              0.8888888888888888,
              "#fdca26"
             ],
             [
              1,
              "#f0f921"
             ]
            ],
            "type": "heatmapgl"
           }
          ],
          "histogram": [
           {
            "marker": {
             "pattern": {
              "fillmode": "overlay",
              "size": 10,
              "solidity": 0.2
             }
            },
            "type": "histogram"
           }
          ],
          "histogram2d": [
           {
            "colorbar": {
             "outlinewidth": 0,
             "ticks": ""
            },
            "colorscale": [
             [
              0,
              "#0d0887"
             ],
             [
              0.1111111111111111,
              "#46039f"
             ],
             [
              0.2222222222222222,
              "#7201a8"
             ],
             [
              0.3333333333333333,
              "#9c179e"
             ],
             [
              0.4444444444444444,
              "#bd3786"
             ],
             [
              0.5555555555555556,
              "#d8576b"
             ],
             [
              0.6666666666666666,
              "#ed7953"
             ],
             [
              0.7777777777777778,
              "#fb9f3a"
             ],
             [
              0.8888888888888888,
              "#fdca26"
             ],
             [
              1,
              "#f0f921"
             ]
            ],
            "type": "histogram2d"
           }
          ],
          "histogram2dcontour": [
           {
            "colorbar": {
             "outlinewidth": 0,
             "ticks": ""
            },
            "colorscale": [
             [
              0,
              "#0d0887"
             ],
             [
              0.1111111111111111,
              "#46039f"
             ],
             [
              0.2222222222222222,
              "#7201a8"
             ],
             [
              0.3333333333333333,
              "#9c179e"
             ],
             [
              0.4444444444444444,
              "#bd3786"
             ],
             [
              0.5555555555555556,
              "#d8576b"
             ],
             [
              0.6666666666666666,
              "#ed7953"
             ],
             [
              0.7777777777777778,
              "#fb9f3a"
             ],
             [
              0.8888888888888888,
              "#fdca26"
             ],
             [
              1,
              "#f0f921"
             ]
            ],
            "type": "histogram2dcontour"
           }
          ],
          "mesh3d": [
           {
            "colorbar": {
             "outlinewidth": 0,
             "ticks": ""
            },
            "type": "mesh3d"
           }
          ],
          "parcoords": [
           {
            "line": {
             "colorbar": {
              "outlinewidth": 0,
              "ticks": ""
             }
            },
            "type": "parcoords"
           }
          ],
          "pie": [
           {
            "automargin": true,
            "type": "pie"
           }
          ],
          "scatter": [
           {
            "fillpattern": {
             "fillmode": "overlay",
             "size": 10,
             "solidity": 0.2
            },
            "type": "scatter"
           }
          ],
          "scatter3d": [
           {
            "line": {
             "colorbar": {
              "outlinewidth": 0,
              "ticks": ""
             }
            },
            "marker": {
             "colorbar": {
              "outlinewidth": 0,
              "ticks": ""
             }
            },
            "type": "scatter3d"
           }
          ],
          "scattercarpet": [
           {
            "marker": {
             "colorbar": {
              "outlinewidth": 0,
              "ticks": ""
             }
            },
            "type": "scattercarpet"
           }
          ],
          "scattergeo": [
           {
            "marker": {
             "colorbar": {
              "outlinewidth": 0,
              "ticks": ""
             }
            },
            "type": "scattergeo"
           }
          ],
          "scattergl": [
           {
            "marker": {
             "colorbar": {
              "outlinewidth": 0,
              "ticks": ""
             }
            },
            "type": "scattergl"
           }
          ],
          "scattermapbox": [
           {
            "marker": {
             "colorbar": {
              "outlinewidth": 0,
              "ticks": ""
             }
            },
            "type": "scattermapbox"
           }
          ],
          "scatterpolar": [
           {
            "marker": {
             "colorbar": {
              "outlinewidth": 0,
              "ticks": ""
             }
            },
            "type": "scatterpolar"
           }
          ],
          "scatterpolargl": [
           {
            "marker": {
             "colorbar": {
              "outlinewidth": 0,
              "ticks": ""
             }
            },
            "type": "scatterpolargl"
           }
          ],
          "scatterternary": [
           {
            "marker": {
             "colorbar": {
              "outlinewidth": 0,
              "ticks": ""
             }
            },
            "type": "scatterternary"
           }
          ],
          "surface": [
           {
            "colorbar": {
             "outlinewidth": 0,
             "ticks": ""
            },
            "colorscale": [
             [
              0,
              "#0d0887"
             ],
             [
              0.1111111111111111,
              "#46039f"
             ],
             [
              0.2222222222222222,
              "#7201a8"
             ],
             [
              0.3333333333333333,
              "#9c179e"
             ],
             [
              0.4444444444444444,
              "#bd3786"
             ],
             [
              0.5555555555555556,
              "#d8576b"
             ],
             [
              0.6666666666666666,
              "#ed7953"
             ],
             [
              0.7777777777777778,
              "#fb9f3a"
             ],
             [
              0.8888888888888888,
              "#fdca26"
             ],
             [
              1,
              "#f0f921"
             ]
            ],
            "type": "surface"
           }
          ],
          "table": [
           {
            "cells": {
             "fill": {
              "color": "#EBF0F8"
             },
             "line": {
              "color": "white"
             }
            },
            "header": {
             "fill": {
              "color": "#C8D4E3"
             },
             "line": {
              "color": "white"
             }
            },
            "type": "table"
           }
          ]
         },
         "layout": {
          "annotationdefaults": {
           "arrowcolor": "#2a3f5f",
           "arrowhead": 0,
           "arrowwidth": 1
          },
          "autotypenumbers": "strict",
          "coloraxis": {
           "colorbar": {
            "outlinewidth": 0,
            "ticks": ""
           }
          },
          "colorscale": {
           "diverging": [
            [
             0,
             "#8e0152"
            ],
            [
             0.1,
             "#c51b7d"
            ],
            [
             0.2,
             "#de77ae"
            ],
            [
             0.3,
             "#f1b6da"
            ],
            [
             0.4,
             "#fde0ef"
            ],
            [
             0.5,
             "#f7f7f7"
            ],
            [
             0.6,
             "#e6f5d0"
            ],
            [
             0.7,
             "#b8e186"
            ],
            [
             0.8,
             "#7fbc41"
            ],
            [
             0.9,
             "#4d9221"
            ],
            [
             1,
             "#276419"
            ]
           ],
           "sequential": [
            [
             0,
             "#0d0887"
            ],
            [
             0.1111111111111111,
             "#46039f"
            ],
            [
             0.2222222222222222,
             "#7201a8"
            ],
            [
             0.3333333333333333,
             "#9c179e"
            ],
            [
             0.4444444444444444,
             "#bd3786"
            ],
            [
             0.5555555555555556,
             "#d8576b"
            ],
            [
             0.6666666666666666,
             "#ed7953"
            ],
            [
             0.7777777777777778,
             "#fb9f3a"
            ],
            [
             0.8888888888888888,
             "#fdca26"
            ],
            [
             1,
             "#f0f921"
            ]
           ],
           "sequentialminus": [
            [
             0,
             "#0d0887"
            ],
            [
             0.1111111111111111,
             "#46039f"
            ],
            [
             0.2222222222222222,
             "#7201a8"
            ],
            [
             0.3333333333333333,
             "#9c179e"
            ],
            [
             0.4444444444444444,
             "#bd3786"
            ],
            [
             0.5555555555555556,
             "#d8576b"
            ],
            [
             0.6666666666666666,
             "#ed7953"
            ],
            [
             0.7777777777777778,
             "#fb9f3a"
            ],
            [
             0.8888888888888888,
             "#fdca26"
            ],
            [
             1,
             "#f0f921"
            ]
           ]
          },
          "colorway": [
           "#636efa",
           "#EF553B",
           "#00cc96",
           "#ab63fa",
           "#FFA15A",
           "#19d3f3",
           "#FF6692",
           "#B6E880",
           "#FF97FF",
           "#FECB52"
          ],
          "font": {
           "color": "#2a3f5f"
          },
          "geo": {
           "bgcolor": "white",
           "lakecolor": "white",
           "landcolor": "#E5ECF6",
           "showlakes": true,
           "showland": true,
           "subunitcolor": "white"
          },
          "hoverlabel": {
           "align": "left"
          },
          "hovermode": "closest",
          "mapbox": {
           "style": "light"
          },
          "paper_bgcolor": "white",
          "plot_bgcolor": "#E5ECF6",
          "polar": {
           "angularaxis": {
            "gridcolor": "white",
            "linecolor": "white",
            "ticks": ""
           },
           "bgcolor": "#E5ECF6",
           "radialaxis": {
            "gridcolor": "white",
            "linecolor": "white",
            "ticks": ""
           }
          },
          "scene": {
           "xaxis": {
            "backgroundcolor": "#E5ECF6",
            "gridcolor": "white",
            "gridwidth": 2,
            "linecolor": "white",
            "showbackground": true,
            "ticks": "",
            "zerolinecolor": "white"
           },
           "yaxis": {
            "backgroundcolor": "#E5ECF6",
            "gridcolor": "white",
            "gridwidth": 2,
            "linecolor": "white",
            "showbackground": true,
            "ticks": "",
            "zerolinecolor": "white"
           },
           "zaxis": {
            "backgroundcolor": "#E5ECF6",
            "gridcolor": "white",
            "gridwidth": 2,
            "linecolor": "white",
            "showbackground": true,
            "ticks": "",
            "zerolinecolor": "white"
           }
          },
          "shapedefaults": {
           "line": {
            "color": "#2a3f5f"
           }
          },
          "ternary": {
           "aaxis": {
            "gridcolor": "white",
            "linecolor": "white",
            "ticks": ""
           },
           "baxis": {
            "gridcolor": "white",
            "linecolor": "white",
            "ticks": ""
           },
           "bgcolor": "#E5ECF6",
           "caxis": {
            "gridcolor": "white",
            "linecolor": "white",
            "ticks": ""
           }
          },
          "title": {
           "x": 0.05
          },
          "xaxis": {
           "automargin": true,
           "gridcolor": "white",
           "linecolor": "white",
           "ticks": "",
           "title": {
            "standoff": 15
           },
           "zerolinecolor": "white",
           "zerolinewidth": 2
          },
          "yaxis": {
           "automargin": true,
           "gridcolor": "white",
           "linecolor": "white",
           "ticks": "",
           "title": {
            "standoff": 15
           },
           "zerolinecolor": "white",
           "zerolinewidth": 2
          }
         }
        },
        "title": {
         "text": "Many patterns"
        },
        "width": 1980,
        "xaxis": {
         "title": {
          "text": "UTM Easting"
         }
        },
        "yaxis": {
         "title": {
          "text": "UTM Northing"
         }
        }
       }
      },
      "text/html": [
       "<div>                            <div id=\"2e86605a-e7d4-4bbc-9a9c-b95da5423eb8\" class=\"plotly-graph-div\" style=\"height:1024px; width:1980px;\"></div>            <script type=\"text/javascript\">                require([\"plotly\"], function(Plotly) {                    window.PLOTLYENV=window.PLOTLYENV || {};                                    if (document.getElementById(\"2e86605a-e7d4-4bbc-9a9c-b95da5423eb8\")) {                    Plotly.newPlot(                        \"2e86605a-e7d4-4bbc-9a9c-b95da5423eb8\",                        [{\"hoverinfo\":\"text\",\"lat\":[9.1595758,9.15966105,9.1603518,9.161043,9.155785349999999,9.15745575,9.15917015,9.15990875,9.158844949999999,9.15894445,9.1594818,9.16178085],\"line\":{\"color\":\"grey\",\"width\":1},\"lon\":[-79.8379134,-79.8380238,-79.8378511,-79.8380166,-79.83835745,-79.8407138,-79.84073635,-79.84050214999999,-79.84031730000001,-79.84048154999999,-79.8404963,-79.84007270000001],\"marker\":{\"color\":[\"#8766EB\",\"#8766EB\",\"#8766EB\",\"#8766EB\",\"#8766EB\",\"#8766EB\",\"#8766EB\",\"#8766EB\",\"#8766EB\",\"#8766EB\",\"#8766EB\",\"#8766EB\"],\"size\":10},\"mode\":\"markers+text\",\"text\":[\"11/16/22 12:00 Daniel\",\"11/16/22 13:00 Daniel\",\"11/16/22 14:00 Daniel\",\"11/16/22 15:00 Daniel\",\"11/20/22 09:00 Daniel\",\"11/20/22 10:00 Daniel\",\"11/20/22 11:00 Daniel\",\"11/20/22 12:00 Daniel\",\"12/14/22 13:00 Daniel\",\"12/14/22 14:00 Daniel\",\"12/14/22 15:00 Daniel\",\"12/14/22 16:00 Daniel\"],\"textfont\":{\"color\":\"white\",\"size\":14},\"type\":\"scattermapbox\"}],                        {\"template\":{\"data\":{\"histogram2dcontour\":[{\"type\":\"histogram2dcontour\",\"colorbar\":{\"outlinewidth\":0,\"ticks\":\"\"},\"colorscale\":[[0.0,\"#0d0887\"],[0.1111111111111111,\"#46039f\"],[0.2222222222222222,\"#7201a8\"],[0.3333333333333333,\"#9c179e\"],[0.4444444444444444,\"#bd3786\"],[0.5555555555555556,\"#d8576b\"],[0.6666666666666666,\"#ed7953\"],[0.7777777777777778,\"#fb9f3a\"],[0.8888888888888888,\"#fdca26\"],[1.0,\"#f0f921\"]]}],\"choropleth\":[{\"type\":\"choropleth\",\"colorbar\":{\"outlinewidth\":0,\"ticks\":\"\"}}],\"histogram2d\":[{\"type\":\"histogram2d\",\"colorbar\":{\"outlinewidth\":0,\"ticks\":\"\"},\"colorscale\":[[0.0,\"#0d0887\"],[0.1111111111111111,\"#46039f\"],[0.2222222222222222,\"#7201a8\"],[0.3333333333333333,\"#9c179e\"],[0.4444444444444444,\"#bd3786\"],[0.5555555555555556,\"#d8576b\"],[0.6666666666666666,\"#ed7953\"],[0.7777777777777778,\"#fb9f3a\"],[0.8888888888888888,\"#fdca26\"],[1.0,\"#f0f921\"]]}],\"heatmap\":[{\"type\":\"heatmap\",\"colorbar\":{\"outlinewidth\":0,\"ticks\":\"\"},\"colorscale\":[[0.0,\"#0d0887\"],[0.1111111111111111,\"#46039f\"],[0.2222222222222222,\"#7201a8\"],[0.3333333333333333,\"#9c179e\"],[0.4444444444444444,\"#bd3786\"],[0.5555555555555556,\"#d8576b\"],[0.6666666666666666,\"#ed7953\"],[0.7777777777777778,\"#fb9f3a\"],[0.8888888888888888,\"#fdca26\"],[1.0,\"#f0f921\"]]}],\"heatmapgl\":[{\"type\":\"heatmapgl\",\"colorbar\":{\"outlinewidth\":0,\"ticks\":\"\"},\"colorscale\":[[0.0,\"#0d0887\"],[0.1111111111111111,\"#46039f\"],[0.2222222222222222,\"#7201a8\"],[0.3333333333333333,\"#9c179e\"],[0.4444444444444444,\"#bd3786\"],[0.5555555555555556,\"#d8576b\"],[0.6666666666666666,\"#ed7953\"],[0.7777777777777778,\"#fb9f3a\"],[0.8888888888888888,\"#fdca26\"],[1.0,\"#f0f921\"]]}],\"contourcarpet\":[{\"type\":\"contourcarpet\",\"colorbar\":{\"outlinewidth\":0,\"ticks\":\"\"}}],\"contour\":[{\"type\":\"contour\",\"colorbar\":{\"outlinewidth\":0,\"ticks\":\"\"},\"colorscale\":[[0.0,\"#0d0887\"],[0.1111111111111111,\"#46039f\"],[0.2222222222222222,\"#7201a8\"],[0.3333333333333333,\"#9c179e\"],[0.4444444444444444,\"#bd3786\"],[0.5555555555555556,\"#d8576b\"],[0.6666666666666666,\"#ed7953\"],[0.7777777777777778,\"#fb9f3a\"],[0.8888888888888888,\"#fdca26\"],[1.0,\"#f0f921\"]]}],\"surface\":[{\"type\":\"surface\",\"colorbar\":{\"outlinewidth\":0,\"ticks\":\"\"},\"colorscale\":[[0.0,\"#0d0887\"],[0.1111111111111111,\"#46039f\"],[0.2222222222222222,\"#7201a8\"],[0.3333333333333333,\"#9c179e\"],[0.4444444444444444,\"#bd3786\"],[0.5555555555555556,\"#d8576b\"],[0.6666666666666666,\"#ed7953\"],[0.7777777777777778,\"#fb9f3a\"],[0.8888888888888888,\"#fdca26\"],[1.0,\"#f0f921\"]]}],\"mesh3d\":[{\"type\":\"mesh3d\",\"colorbar\":{\"outlinewidth\":0,\"ticks\":\"\"}}],\"scatter\":[{\"fillpattern\":{\"fillmode\":\"overlay\",\"size\":10,\"solidity\":0.2},\"type\":\"scatter\"}],\"parcoords\":[{\"type\":\"parcoords\",\"line\":{\"colorbar\":{\"outlinewidth\":0,\"ticks\":\"\"}}}],\"scatterpolargl\":[{\"type\":\"scatterpolargl\",\"marker\":{\"colorbar\":{\"outlinewidth\":0,\"ticks\":\"\"}}}],\"bar\":[{\"error_x\":{\"color\":\"#2a3f5f\"},\"error_y\":{\"color\":\"#2a3f5f\"},\"marker\":{\"line\":{\"color\":\"#E5ECF6\",\"width\":0.5},\"pattern\":{\"fillmode\":\"overlay\",\"size\":10,\"solidity\":0.2}},\"type\":\"bar\"}],\"scattergeo\":[{\"type\":\"scattergeo\",\"marker\":{\"colorbar\":{\"outlinewidth\":0,\"ticks\":\"\"}}}],\"scatterpolar\":[{\"type\":\"scatterpolar\",\"marker\":{\"colorbar\":{\"outlinewidth\":0,\"ticks\":\"\"}}}],\"histogram\":[{\"marker\":{\"pattern\":{\"fillmode\":\"overlay\",\"size\":10,\"solidity\":0.2}},\"type\":\"histogram\"}],\"scattergl\":[{\"type\":\"scattergl\",\"marker\":{\"colorbar\":{\"outlinewidth\":0,\"ticks\":\"\"}}}],\"scatter3d\":[{\"type\":\"scatter3d\",\"line\":{\"colorbar\":{\"outlinewidth\":0,\"ticks\":\"\"}},\"marker\":{\"colorbar\":{\"outlinewidth\":0,\"ticks\":\"\"}}}],\"scattermapbox\":[{\"type\":\"scattermapbox\",\"marker\":{\"colorbar\":{\"outlinewidth\":0,\"ticks\":\"\"}}}],\"scatterternary\":[{\"type\":\"scatterternary\",\"marker\":{\"colorbar\":{\"outlinewidth\":0,\"ticks\":\"\"}}}],\"scattercarpet\":[{\"type\":\"scattercarpet\",\"marker\":{\"colorbar\":{\"outlinewidth\":0,\"ticks\":\"\"}}}],\"carpet\":[{\"aaxis\":{\"endlinecolor\":\"#2a3f5f\",\"gridcolor\":\"white\",\"linecolor\":\"white\",\"minorgridcolor\":\"white\",\"startlinecolor\":\"#2a3f5f\"},\"baxis\":{\"endlinecolor\":\"#2a3f5f\",\"gridcolor\":\"white\",\"linecolor\":\"white\",\"minorgridcolor\":\"white\",\"startlinecolor\":\"#2a3f5f\"},\"type\":\"carpet\"}],\"table\":[{\"cells\":{\"fill\":{\"color\":\"#EBF0F8\"},\"line\":{\"color\":\"white\"}},\"header\":{\"fill\":{\"color\":\"#C8D4E3\"},\"line\":{\"color\":\"white\"}},\"type\":\"table\"}],\"barpolar\":[{\"marker\":{\"line\":{\"color\":\"#E5ECF6\",\"width\":0.5},\"pattern\":{\"fillmode\":\"overlay\",\"size\":10,\"solidity\":0.2}},\"type\":\"barpolar\"}],\"pie\":[{\"automargin\":true,\"type\":\"pie\"}]},\"layout\":{\"autotypenumbers\":\"strict\",\"colorway\":[\"#636efa\",\"#EF553B\",\"#00cc96\",\"#ab63fa\",\"#FFA15A\",\"#19d3f3\",\"#FF6692\",\"#B6E880\",\"#FF97FF\",\"#FECB52\"],\"font\":{\"color\":\"#2a3f5f\"},\"hovermode\":\"closest\",\"hoverlabel\":{\"align\":\"left\"},\"paper_bgcolor\":\"white\",\"plot_bgcolor\":\"#E5ECF6\",\"polar\":{\"bgcolor\":\"#E5ECF6\",\"angularaxis\":{\"gridcolor\":\"white\",\"linecolor\":\"white\",\"ticks\":\"\"},\"radialaxis\":{\"gridcolor\":\"white\",\"linecolor\":\"white\",\"ticks\":\"\"}},\"ternary\":{\"bgcolor\":\"#E5ECF6\",\"aaxis\":{\"gridcolor\":\"white\",\"linecolor\":\"white\",\"ticks\":\"\"},\"baxis\":{\"gridcolor\":\"white\",\"linecolor\":\"white\",\"ticks\":\"\"},\"caxis\":{\"gridcolor\":\"white\",\"linecolor\":\"white\",\"ticks\":\"\"}},\"coloraxis\":{\"colorbar\":{\"outlinewidth\":0,\"ticks\":\"\"}},\"colorscale\":{\"sequential\":[[0.0,\"#0d0887\"],[0.1111111111111111,\"#46039f\"],[0.2222222222222222,\"#7201a8\"],[0.3333333333333333,\"#9c179e\"],[0.4444444444444444,\"#bd3786\"],[0.5555555555555556,\"#d8576b\"],[0.6666666666666666,\"#ed7953\"],[0.7777777777777778,\"#fb9f3a\"],[0.8888888888888888,\"#fdca26\"],[1.0,\"#f0f921\"]],\"sequentialminus\":[[0.0,\"#0d0887\"],[0.1111111111111111,\"#46039f\"],[0.2222222222222222,\"#7201a8\"],[0.3333333333333333,\"#9c179e\"],[0.4444444444444444,\"#bd3786\"],[0.5555555555555556,\"#d8576b\"],[0.6666666666666666,\"#ed7953\"],[0.7777777777777778,\"#fb9f3a\"],[0.8888888888888888,\"#fdca26\"],[1.0,\"#f0f921\"]],\"diverging\":[[0,\"#8e0152\"],[0.1,\"#c51b7d\"],[0.2,\"#de77ae\"],[0.3,\"#f1b6da\"],[0.4,\"#fde0ef\"],[0.5,\"#f7f7f7\"],[0.6,\"#e6f5d0\"],[0.7,\"#b8e186\"],[0.8,\"#7fbc41\"],[0.9,\"#4d9221\"],[1,\"#276419\"]]},\"xaxis\":{\"gridcolor\":\"white\",\"linecolor\":\"white\",\"ticks\":\"\",\"title\":{\"standoff\":15},\"zerolinecolor\":\"white\",\"automargin\":true,\"zerolinewidth\":2},\"yaxis\":{\"gridcolor\":\"white\",\"linecolor\":\"white\",\"ticks\":\"\",\"title\":{\"standoff\":15},\"zerolinecolor\":\"white\",\"automargin\":true,\"zerolinewidth\":2},\"scene\":{\"xaxis\":{\"backgroundcolor\":\"#E5ECF6\",\"gridcolor\":\"white\",\"linecolor\":\"white\",\"showbackground\":true,\"ticks\":\"\",\"zerolinecolor\":\"white\",\"gridwidth\":2},\"yaxis\":{\"backgroundcolor\":\"#E5ECF6\",\"gridcolor\":\"white\",\"linecolor\":\"white\",\"showbackground\":true,\"ticks\":\"\",\"zerolinecolor\":\"white\",\"gridwidth\":2},\"zaxis\":{\"backgroundcolor\":\"#E5ECF6\",\"gridcolor\":\"white\",\"linecolor\":\"white\",\"showbackground\":true,\"ticks\":\"\",\"zerolinecolor\":\"white\",\"gridwidth\":2}},\"shapedefaults\":{\"line\":{\"color\":\"#2a3f5f\"}},\"annotationdefaults\":{\"arrowcolor\":\"#2a3f5f\",\"arrowhead\":0,\"arrowwidth\":1},\"geo\":{\"bgcolor\":\"white\",\"landcolor\":\"#E5ECF6\",\"subunitcolor\":\"white\",\"showland\":true,\"showlakes\":true,\"lakecolor\":\"white\"},\"title\":{\"x\":0.05},\"mapbox\":{\"style\":\"light\"}}},\"mapbox\":{\"center\":{\"lat\":9.159333641666668,\"lon\":-79.83945687500001},\"accesstoken\":\"pk.eyJ1IjoiYWJyb2xzbSIsImEiOiJjbGt5aHhmMDYwMnBxM25vMWRrdHl3Z2E3In0.NzmidKIzpJRKKYXyLcXwhw\",\"style\":\"satellite\",\"bearing\":0,\"zoom\":16},\"title\":{\"text\":\"Many patterns\"},\"xaxis\":{\"title\":{\"text\":\"UTM Easting\"}},\"yaxis\":{\"title\":{\"text\":\"UTM Northing\"}},\"hovermode\":\"closest\",\"width\":1980,\"height\":1024},                        {\"responsive\": true}                    ).then(function(){\n",
       "                            \n",
       "var gd = document.getElementById('2e86605a-e7d4-4bbc-9a9c-b95da5423eb8');\n",
       "var x = new MutationObserver(function (mutations, observer) {{\n",
       "        var display = window.getComputedStyle(gd).display;\n",
       "        if (!display || display === 'none') {{\n",
       "            console.log([gd, 'removed!']);\n",
       "            Plotly.purge(gd);\n",
       "            observer.disconnect();\n",
       "        }}\n",
       "}});\n",
       "\n",
       "// Listen for the removal of the full notebook cells\n",
       "var notebookContainer = gd.closest('#notebook-container');\n",
       "if (notebookContainer) {{\n",
       "    x.observe(notebookContainer, {childList: true});\n",
       "}}\n",
       "\n",
       "// Listen for the clearing of the current output cell\n",
       "var outputEl = gd.closest('.output');\n",
       "if (outputEl) {{\n",
       "    x.observe(outputEl, {childList: true});\n",
       "}}\n",
       "\n",
       "                        })                };                });            </script>        </div>"
      ]
     },
     "metadata": {},
     "output_type": "display_data"
    }
   ],
   "source": [
    "plotting(result, 'Many patterns')"
   ]
  },
  {
   "cell_type": "code",
   "execution_count": 9,
   "id": "27528c0c",
   "metadata": {},
   "outputs": [],
   "source": [
    "import re\n",
    "def translate_time(input_str):\n",
    "    time_dict = {\n",
    "        'D': 'Daytime',\n",
    "        'E': 'Evening',\n",
    "        'M': 'Morning'\n",
    "    }\n",
    "    \n",
    "    translation = ''\n",
    "    for char in input_str:\n",
    "        if char in time_dict:\n",
    "            translation += f' to {time_dict[char]}'\n",
    "        else:\n",
    "            translation += char\n",
    "    \n",
    "    return translationx\n",
    "\n",
    "def get_time(search_string,tdf):\n",
    "    target_string=''.join(tdf['direction'])\n",
    "    #print(search_string)\n",
    "    regex_pattern = re.escape(search_string).replace(r'\\ ', r'\\s*')\n",
    "    # Use the regular expression to search the target string\n",
    "    match = re.search(regex_pattern, target_string)\n",
    "    if match ==None:\n",
    "        return 'Unknown time'\n",
    "    return translate_time(''.join(tdf.iloc[match.start():match.start()+len(search_string)-1,-1][:2]))"
   ]
  },
  {
   "cell_type": "code",
   "execution_count": 10,
   "id": "7b2fb256",
   "metadata": {},
   "outputs": [],
   "source": [
    "from collections import defaultdict\n",
    "import Levenshtein as lev\n",
    "\n",
    "def cluster_patterns(patterns_list, threshold=2):\n",
    "    clusters = defaultdict(list)\n",
    "    for i, (pattern, freq) in enumerate(patterns_list):\n",
    "        found_cluster = False\n",
    "        for cluster_pattern in clusters:\n",
    "            if lev.distance(pattern, cluster_pattern) <= threshold:\n",
    "                clusters[cluster_pattern].append((pattern, freq))\n",
    "                found_cluster = True\n",
    "                break\n",
    "        if not found_cluster:\n",
    "            clusters[pattern].append((pattern, freq))\n",
    "    \n",
    "    return clusters.values()\n",
    "\n",
    "# Example patterns list\n",
    "# patterns_list = [\n",
    "#     ('E443', 4), ('E443S', 3), ('3NEE', 3), ('EEEN', 3), ('2E44', 3), ('443S', 3), \n",
    "#     ('2E443S', 2), ('E2444', 2), ('1333N', 2), ('3NEE4', 2), ('44N22', 2), ('2E443', 2), \n",
    "#     ('13NEE', 2), ('S214', 2), ('4ESS', 2), ('S31N', 2), ('E244', 2), ('2444', 2), ('1333', 2), \n",
    "#     ('333N', 2), ('33NE', 2), ('S3SE', 2), ('4NE1', 2), ('3N1N', 2), ('1N23', 2), ('NEE4', 2), \n",
    "#     ('EE44', 2), ('44N2', 2), ('4N22', 2), ('N144', 2), ('E11N', 2), ('SEEE', 2), ('43S2', 2), \n",
    "#     ('3S2E', 2), ('11NS', 2), ('S41N', 2), ('NE1S', 2), ('1EE4', 2), ('E4SS', 2), ('4SS3', 2), \n",
    "#     ('NNSE', 2), ('13NE', 2), ('EN23', 2), ('EN3S', 2)\n",
    "# ]\n",
    "patterns_list = frequent_patterns[0]\n",
    "\n",
    "# Clustering patterns with edit distance threshold of 2\n",
    "clusters = cluster_patterns(patterns_list, threshold=2)\n",
    "\n",
    "# Sorting clusters by the sum of the frequency of patterns within the cluster in descending order\n",
    "sorted_clusters = sorted(clusters, key=lambda cluster: sum(freq for _, freq in cluster), reverse=True)\n",
    "\n",
    "# Printing the top 5 clusters\n",
    "top_5_clusters = sorted_clusters[:5]\n",
    "x=[]\n",
    "clust=0\n",
    "for clus in top_5_clusters:\n",
    "    clust=clust+1\n",
    "    for pattern in clus[:5]:\n",
    "        x.append({'Movement Pattern':f'{clust}','direction':pattern[0],'frequency':pattern[1],'time':get_time(pattern[0],smalldf) })\n",
    "     \n",
    "\n",
    "d = pd.DataFrame(x)"
   ]
  },
  {
   "cell_type": "code",
   "execution_count": 21,
   "id": "0d99aba2",
   "metadata": {},
   "outputs": [],
   "source": [
    "rows = (find_all_pattern_rows(filtered_rows, ['EEEE', 'EEE1', 'EEEE1', '2EEEE']))\n"
   ]
  },
  {
   "cell_type": "code",
   "execution_count": 22,
   "id": "410c675d",
   "metadata": {},
   "outputs": [
    {
     "data": {
      "text/plain": [
       "[409]"
      ]
     },
     "execution_count": 22,
     "metadata": {},
     "output_type": "execute_result"
    }
   ],
   "source": [
    "plotting(rows, )"
   ]
  },
  {
   "cell_type": "markdown",
   "id": "dbab6a48",
   "metadata": {},
   "source": [
    "I apologize for the misunderstanding. Let's identify the common parts within each cluster and use that information to generate a story for each cluster, including details about the time of occurrence:\n",
    "\n",
    "**Cluster 1:**\n",
    "Common Part: 443\n",
    "Explanation: In this cluster, the common movement component is '443'. The monkey frequently moves towards the North West during the transition from Daytime to Evening. It explores this direction consistently, indicating a preference for this path during the evening hours.\n",
    "\n",
    "**Cluster 2:**\n",
    "Common Part: 3NEE\n",
    "Explanation: The common movement component in this cluster is '3NEE'. The monkey often moves towards the South West direction during the transition from Daytime to Evening. This specific movement suggests a tendency to explore the South West quadrant of the jungle in the early evening.\n",
    "\n",
    "**Cluster 3:**\n",
    "Common Part: 4\n",
    "Explanation: Within this cluster, the common movement component is '4'. The monkey's movements often involve heading towards the North West direction, occurring primarily during the evening hours. This movement pattern may indicate the monkey's interest in this specific direction during the evening.\n",
    "\n",
    "**Cluster 4:**\n",
    "Common Part: E\n",
    "Explanation: In this cluster, the common movement component is 'E'. The monkey's movements frequently involve transitioning from Daytime to Morning, reflecting its active exploration during the morning hours. This suggests an adaptive behavior to make the most of the daytime.\n",
    "\n",
    "**Cluster 5:**\n",
    "Common Part: 3\n",
    "Explanation: Within this cluster, the common movement component is '3'. The monkey's movements in this group lack specific time information but often involve moving towards the South West direction. This movement could be exploratory, with no distinct time pattern.\n",
    "\n",
    "In summary, each cluster exhibits specific common movement components that the monkey tends to follow. These patterns provide insights into the monkey's preferred directions and the timing of its activities during different parts of the day. The common parts highlight the monkey's adaptive strategies as it explores the jungle's diverse regions, tailoring its movements to the surrounding environment and the prevailing time of day."
   ]
  },
  {
   "cell_type": "code",
   "execution_count": null,
   "id": "ac670a5c",
   "metadata": {
    "scrolled": true
   },
   "outputs": [],
   "source": []
  },
  {
   "cell_type": "markdown",
   "id": "6ba067f7",
   "metadata": {},
   "source": []
  },
  {
   "cell_type": "code",
   "execution_count": null,
   "id": "ad7c6302",
   "metadata": {},
   "outputs": [],
   "source": []
  }
 ],
 "metadata": {
  "kernelspec": {
   "display_name": "base",
   "language": "python",
   "name": "base"
  },
  "language_info": {
   "codemirror_mode": {
    "name": "ipython",
    "version": 3
   },
   "file_extension": ".py",
   "mimetype": "text/x-python",
   "name": "python",
   "nbconvert_exporter": "python",
   "pygments_lexer": "ipython3",
   "version": "3.10.10"
  }
 },
 "nbformat": 4,
 "nbformat_minor": 5
}
