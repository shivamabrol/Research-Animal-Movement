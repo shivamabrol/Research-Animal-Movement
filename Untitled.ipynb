{
 "cells": [
  {
   "cell_type": "code",
   "execution_count": 1,
   "id": "6706f947",
   "metadata": {},
   "outputs": [],
   "source": [
    "import pandas as pd \n",
    "import numpy as np"
   ]
  },
  {
   "cell_type": "code",
   "execution_count": 29,
   "id": "f1145cb5",
   "metadata": {},
   "outputs": [],
   "source": [
    "df_1 = pd.read_csv('data/BCI-movement-total.csv')"
   ]
  },
  {
   "cell_type": "code",
   "execution_count": 32,
   "id": "ccc64eda",
   "metadata": {},
   "outputs": [],
   "source": [
    "df = df_1[df_1['utm-easting'] > 0]"
   ]
  },
  {
   "cell_type": "code",
   "execution_count": 34,
   "id": "5cc488e9",
   "metadata": {},
   "outputs": [],
   "source": [
    "df.to_csv('data/BCI-movement-filetered.csv')"
   ]
  },
  {
   "cell_type": "code",
   "execution_count": 2,
   "id": "ebf40721",
   "metadata": {},
   "outputs": [],
   "source": [
    "df = pd.read_csv('data/BCI-movement-filtered.csv')"
   ]
  },
  {
   "cell_type": "code",
   "execution_count": 6,
   "id": "5968b1f8",
   "metadata": {},
   "outputs": [],
   "source": [
    "df['trajectory_type_1'] = df['trajectory_number']\n",
    "df['trajectory_type_2'] = df['trajectory_number']\n",
    "df['trajectory_type_3'] = df['trajectory_number']\n",
    "df['trajectory_type_4'] = df['trajectory_number']"
   ]
  },
  {
   "cell_type": "code",
   "execution_count": 9,
   "id": "a759826d",
   "metadata": {},
   "outputs": [],
   "source": [
    "df['trajectory_type_2'] += 5"
   ]
  },
  {
   "cell_type": "code",
   "execution_count": 11,
   "id": "2f6a545c",
   "metadata": {},
   "outputs": [],
   "source": [
    "df.to_csv('data/BCI-movement-filtered.csv')"
   ]
  },
  {
   "cell_type": "code",
   "execution_count": null,
   "id": "5975b470",
   "metadata": {},
   "outputs": [],
   "source": []
  }
 ],
 "metadata": {
  "kernelspec": {
   "display_name": "Python 3 (ipykernel)",
   "language": "python",
   "name": "python3"
  },
  "language_info": {
   "codemirror_mode": {
    "name": "ipython",
    "version": 3
   },
   "file_extension": ".py",
   "mimetype": "text/x-python",
   "name": "python",
   "nbconvert_exporter": "python",
   "pygments_lexer": "ipython3",
   "version": "3.10.9"
  }
 },
 "nbformat": 4,
 "nbformat_minor": 5
}
