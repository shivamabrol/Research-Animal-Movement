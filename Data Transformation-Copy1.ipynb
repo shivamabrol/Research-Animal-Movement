{
 "cells": [
  {
   "cell_type": "markdown",
   "id": "08c7e633",
   "metadata": {},
   "source": [
    "## Data Reading and Transformation\n",
    "The data (BCI Arboreal) has a lot of fields which are NaN and a lot of irrelevant variables for my analysis right now I only require location (X, Y, UTM-north, UTM-east) \n",
    "Time(timestamp)\n",
    "Name fields\n",
    "\n",
    "So I run queries to filter out the above fields and remove any empty data fields from the dataframe"
   ]
  },
  {
   "cell_type": "code",
   "execution_count": 1,
   "id": "f670044d",
   "metadata": {},
   "outputs": [
    {
     "name": "stderr",
     "output_type": "stream",
     "text": [
      "/var/folders/2z/k0vctg855l3dq626nd2hf5j40000gn/T/ipykernel_15226/2044101010.py:3: DtypeWarning: Columns (7,9,18,32,37,46) have mixed types. Specify dtype option on import or set low_memory=False.\n",
      "  df = pd.read_csv('data/Dead-Reckoning Arboreal Species in BCI.csv')\n"
     ]
    }
   ],
   "source": [
    "import pandas as pd\n",
    "import numpy as np\n",
    "df = pd.read_csv('data/Dead-Reckoning Arboreal Species in BCI.csv')\n",
    "# convert the timestamp column to Unix timestamps\n",
    "df['timestamp'] = pd.to_datetime(df['timestamp']).apply(lambda x: x.timestamp())\n",
    "\n",
    "# convert the Unix timestamps to integers\n",
    "df['timestamp'] = df['timestamp'].astype(int)"
   ]
  },
  {
   "cell_type": "markdown",
   "id": "fe871ff6",
   "metadata": {},
   "source": [
    "After reading the data. I'm only taking the GPS sensor logs. I tried to merge the records of other sensors (acc / mag). The only reasonable field I thought would be timestamp however the records didn't match good enough so only keeping the GPS data for now"
   ]
  },
  {
   "cell_type": "code",
   "execution_count": 2,
   "id": "ca0f586c",
   "metadata": {},
   "outputs": [],
   "source": [
    "##Considering the GPS data for this study\n",
    "df_gps = df[df['sensor-type'] == 'gps']\n",
    "# df_gps.dropna(axis = 1, inplace = True)|\n",
    "df_extract = df_gps[['utm-easting', 'utm-northing', 'timestamp']]"
   ]
  },
  {
   "cell_type": "markdown",
   "id": "fb929ec2",
   "metadata": {},
   "source": [
    "6 steps for generalizing and summarizing data to make a flow map \n",
    "\n",
    "3. extract the centroids (average points) of the point groups and use them as generating points for Voronoi tessellation;\n",
    "4. use the resulting Voronoi cells as places for place-based division of the trajectories into segments;\n",
    "5. for each ordered pair of places, aggregate the trajectory segments starting in the first place and ending in the second place;\n",
    "6. measure the quality of the generalization and improve it if necessary."
   ]
  },
  {
   "cell_type": "markdown",
   "id": "326905c4",
   "metadata": {},
   "source": [
    "### 1. extract characteristic points from the trajectories;\n"
   ]
  },
  {
   "cell_type": "code",
   "execution_count": 3,
   "id": "265b0972",
   "metadata": {},
   "outputs": [
    {
     "name": "stderr",
     "output_type": "stream",
     "text": [
      "/var/folders/2z/k0vctg855l3dq626nd2hf5j40000gn/T/ipykernel_15226/2157936881.py:12: RuntimeWarning: invalid value encountered in double_scalars\n",
      "  return math.degrees(math.acos(dot_product / magnitude_product))\n"
     ]
    }
   ],
   "source": [
    "import math\n",
    "\n",
    "def get_mean(lst):\n",
    "    return sum(lst) / len(lst)\n",
    "\n",
    "def spatial_distance(p1, p2):\n",
    "    return math.sqrt((p1[0] - p2[0])**2 + (p1[1] - p2[1])**2)\n",
    "\n",
    "def angle_between_vectors(v1, v2):\n",
    "    dot_product = v1[0] * v2[0] + v1[1] * v2[1]\n",
    "    magnitude_product = math.sqrt(v1[0]**2 + v1[1]**2) * math.sqrt(v2[0]**2 + v2[1]**2)\n",
    "    return math.degrees(math.acos(dot_product / magnitude_product))\n",
    "\n",
    "def extract_significant_points(points, min_distance = 3, max_distance = 10, min_angle = 30, min_stop_duration = 100):\n",
    "    n = len(points)\n",
    "    C = [points[0]]\n",
    "    i = 0\n",
    "    j = 1\n",
    "\n",
    "    while j < n:\n",
    "        \n",
    "        if j == n - 1:\n",
    "            C.append(points[j])\n",
    "            break\n",
    "\n",
    "        d_space_i_j = spatial_distance(points[i][:2], points[j][:2])\n",
    "        if d_space_i_j >= max_distance:\n",
    "            C.append(points[j])\n",
    "            i = j\n",
    "            j = i + 1\n",
    "        #Fine\n",
    "        else:\n",
    "            k = j + 1\n",
    "            while k < n and spatial_distance(points[j][:2], points[k][:2]) < min_distance:\n",
    "                k = k + 1\n",
    "            #Fine\n",
    "            if k > j + 1:\n",
    "                d_time = points[k-1][2] - points[j][2]\n",
    "                if d_time >= min_stop_duration:\n",
    "                    C.append(points[j])\n",
    "                    i = j\n",
    "                    j = k\n",
    "                    \n",
    "            #Fine\n",
    "                else:\n",
    "                    x_vals, y_vals, t_vals = zip(*points[j:k])\n",
    "                    x_ave = get_mean(x_vals)\n",
    "                    y_ave = get_mean(y_vals)\n",
    "\n",
    "                    distances = [spatial_distance((x, y), (x_ave, y_ave)) for x, y, _ in points[j:k]]\n",
    "                    m = j + distances.index(min(distances))\n",
    "\n",
    "                    C.append(points[m])\n",
    "                    i = j\n",
    "                    j = m + 1\n",
    "\n",
    "            else:\n",
    "                a_turn = angle_between_vectors((points[i][0] - points[j][0], points[i][1] - points[j][1]),\n",
    "                                               (points[j][0] - points[k][0], points[j][1] - points[k][1]))\n",
    "                if a_turn >= min_angle:\n",
    "                    C.append(points[j])\n",
    "                    i = j\n",
    "                    j = k\n",
    "                else:\n",
    "                    j += 1\n",
    "\n",
    "    return C\n",
    "extracted_points = extract_significant_points(df_extract.to_numpy())\n"
   ]
  },
  {
   "cell_type": "code",
   "execution_count": null,
   "id": "9afd1b07",
   "metadata": {},
   "outputs": [],
   "source": []
  },
  {
   "cell_type": "markdown",
   "id": "e214511b",
   "metadata": {},
   "source": [
    "### 2. group the extracted points by spatial proximity;\n"
   ]
  },
  {
   "cell_type": "code",
   "execution_count": 4,
   "id": "fd4d1baa",
   "metadata": {},
   "outputs": [
    {
     "ename": "KeyboardInterrupt",
     "evalue": "",
     "output_type": "error",
     "traceback": [
      "\u001b[0;31m---------------------------------------------------------------------------\u001b[0m",
      "\u001b[0;31mKeyboardInterrupt\u001b[0m                         Traceback (most recent call last)",
      "Cell \u001b[0;32mIn[4], line 112\u001b[0m\n\u001b[1;32m    109\u001b[0m points \u001b[38;5;241m=\u001b[39m [Point(p[\u001b[38;5;241m0\u001b[39m], p[\u001b[38;5;241m1\u001b[39m]) \u001b[38;5;28;01mfor\u001b[39;00m p \u001b[38;5;129;01min\u001b[39;00m extracted_points]\n\u001b[1;32m    111\u001b[0m \u001b[38;5;28;01mfor\u001b[39;00m mr \u001b[38;5;129;01min\u001b[39;00m \u001b[38;5;28mrange\u001b[39m(\u001b[38;5;241m100\u001b[39m, \u001b[38;5;241m1000\u001b[39m, \u001b[38;5;241m100\u001b[39m):\n\u001b[0;32m--> 112\u001b[0m     groups \u001b[38;5;241m=\u001b[39m \u001b[43mgrouping_points_in_space\u001b[49m\u001b[43m(\u001b[49m\u001b[43mpoints\u001b[49m\u001b[43m,\u001b[49m\u001b[43m \u001b[49m\u001b[43mmr\u001b[49m\u001b[43m)\u001b[49m\n\u001b[1;32m    113\u001b[0m     \u001b[38;5;28mprint\u001b[39m(\u001b[38;5;28mlen\u001b[39m(groups))\n",
      "Cell \u001b[0;32mIn[4], line 105\u001b[0m, in \u001b[0;36mgrouping_points_in_space\u001b[0;34m(points, max_radius)\u001b[0m\n\u001b[1;32m    103\u001b[0m \u001b[38;5;28;01mfor\u001b[39;00m point \u001b[38;5;129;01min\u001b[39;00m points:\n\u001b[1;32m    104\u001b[0m     put_in_proper_group(point, groups, grid)\n\u001b[0;32m--> 105\u001b[0m \u001b[43mredistribute_points\u001b[49m\u001b[43m(\u001b[49m\u001b[43mpoints\u001b[49m\u001b[43m,\u001b[49m\u001b[43m \u001b[49m\u001b[43mgroups\u001b[49m\u001b[43m,\u001b[49m\u001b[43m \u001b[49m\u001b[43mgrid\u001b[49m\u001b[43m)\u001b[49m\n\u001b[1;32m    106\u001b[0m \u001b[38;5;28;01mreturn\u001b[39;00m groups\n",
      "Cell \u001b[0;32mIn[4], line 94\u001b[0m, in \u001b[0;36mredistribute_points\u001b[0;34m(points, groups, grid)\u001b[0m\n\u001b[1;32m     92\u001b[0m \u001b[38;5;28;01mdef\u001b[39;00m \u001b[38;5;21mredistribute_points\u001b[39m(points, groups, grid):\n\u001b[1;32m     93\u001b[0m     \u001b[38;5;28;01mfor\u001b[39;00m point \u001b[38;5;129;01min\u001b[39;00m points:\n\u001b[0;32m---> 94\u001b[0m         \u001b[43mput_in_proper_group\u001b[49m\u001b[43m(\u001b[49m\u001b[43mpoint\u001b[49m\u001b[43m,\u001b[49m\u001b[43m \u001b[49m\u001b[43mgroups\u001b[49m\u001b[43m,\u001b[49m\u001b[43m \u001b[49m\u001b[43mgrid\u001b[49m\u001b[43m)\u001b[49m\n",
      "Cell \u001b[0;32mIn[4], line 79\u001b[0m, in \u001b[0;36mput_in_proper_group\u001b[0;34m(p, groups, grid)\u001b[0m\n\u001b[1;32m     77\u001b[0m     \u001b[38;5;28;01mif\u001b[39;00m distance(p, group\u001b[38;5;241m.\u001b[39mcentroid) \u001b[38;5;241m<\u001b[39m\u001b[38;5;241m=\u001b[39m grid\u001b[38;5;241m.\u001b[39mcell_width:\n\u001b[1;32m     78\u001b[0m         group\u001b[38;5;241m.\u001b[39mmembers\u001b[38;5;241m.\u001b[39mappend(p)\n\u001b[0;32m---> 79\u001b[0m         \u001b[43mupdate_centroid\u001b[49m\u001b[43m(\u001b[49m\u001b[43mgroup\u001b[49m\u001b[43m)\u001b[49m\n\u001b[1;32m     80\u001b[0m         \u001b[38;5;28;01mreturn\u001b[39;00m\n\u001b[1;32m     81\u001b[0m new_group \u001b[38;5;241m=\u001b[39m Group(p)\n",
      "Cell \u001b[0;32mIn[4], line 88\u001b[0m, in \u001b[0;36mupdate_centroid\u001b[0;34m(group)\u001b[0m\n\u001b[1;32m     86\u001b[0m num_points \u001b[38;5;241m=\u001b[39m \u001b[38;5;28mlen\u001b[39m(group\u001b[38;5;241m.\u001b[39mmembers)\n\u001b[1;32m     87\u001b[0m sum_x \u001b[38;5;241m=\u001b[39m \u001b[38;5;28msum\u001b[39m(point\u001b[38;5;241m.\u001b[39mx \u001b[38;5;28;01mfor\u001b[39;00m point \u001b[38;5;129;01min\u001b[39;00m group\u001b[38;5;241m.\u001b[39mmembers)\n\u001b[0;32m---> 88\u001b[0m sum_y \u001b[38;5;241m=\u001b[39m \u001b[38;5;28;43msum\u001b[39;49m\u001b[43m(\u001b[49m\u001b[43mpoint\u001b[49m\u001b[38;5;241;43m.\u001b[39;49m\u001b[43my\u001b[49m\u001b[43m \u001b[49m\u001b[38;5;28;43;01mfor\u001b[39;49;00m\u001b[43m \u001b[49m\u001b[43mpoint\u001b[49m\u001b[43m \u001b[49m\u001b[38;5;129;43;01min\u001b[39;49;00m\u001b[43m \u001b[49m\u001b[43mgroup\u001b[49m\u001b[38;5;241;43m.\u001b[39;49m\u001b[43mmembers\u001b[49m\u001b[43m)\u001b[49m\n\u001b[1;32m     89\u001b[0m group\u001b[38;5;241m.\u001b[39mcentroid\u001b[38;5;241m.\u001b[39mx \u001b[38;5;241m=\u001b[39m sum_x \u001b[38;5;241m/\u001b[39m num_points\n\u001b[1;32m     90\u001b[0m group\u001b[38;5;241m.\u001b[39mcentroid\u001b[38;5;241m.\u001b[39my \u001b[38;5;241m=\u001b[39m sum_y \u001b[38;5;241m/\u001b[39m num_points\n",
      "Cell \u001b[0;32mIn[4], line 88\u001b[0m, in \u001b[0;36m<genexpr>\u001b[0;34m(.0)\u001b[0m\n\u001b[1;32m     86\u001b[0m num_points \u001b[38;5;241m=\u001b[39m \u001b[38;5;28mlen\u001b[39m(group\u001b[38;5;241m.\u001b[39mmembers)\n\u001b[1;32m     87\u001b[0m sum_x \u001b[38;5;241m=\u001b[39m \u001b[38;5;28msum\u001b[39m(point\u001b[38;5;241m.\u001b[39mx \u001b[38;5;28;01mfor\u001b[39;00m point \u001b[38;5;129;01min\u001b[39;00m group\u001b[38;5;241m.\u001b[39mmembers)\n\u001b[0;32m---> 88\u001b[0m sum_y \u001b[38;5;241m=\u001b[39m \u001b[38;5;28msum\u001b[39m(point\u001b[38;5;241m.\u001b[39my \u001b[38;5;28;01mfor\u001b[39;00m point \u001b[38;5;129;01min\u001b[39;00m group\u001b[38;5;241m.\u001b[39mmembers)\n\u001b[1;32m     89\u001b[0m group\u001b[38;5;241m.\u001b[39mcentroid\u001b[38;5;241m.\u001b[39mx \u001b[38;5;241m=\u001b[39m sum_x \u001b[38;5;241m/\u001b[39m num_points\n\u001b[1;32m     90\u001b[0m group\u001b[38;5;241m.\u001b[39mcentroid\u001b[38;5;241m.\u001b[39my \u001b[38;5;241m=\u001b[39m sum_y \u001b[38;5;241m/\u001b[39m num_points\n",
      "\u001b[0;31mKeyboardInterrupt\u001b[0m: "
     ]
    }
   ],
   "source": []
  },
  {
   "cell_type": "markdown",
   "id": "48586094",
   "metadata": {},
   "source": [
    "## 2.1 Visualizing Groups"
   ]
  },
  {
   "cell_type": "code",
   "execution_count": null,
   "id": "0257a29b",
   "metadata": {},
   "outputs": [],
   "source": [
    "import matplotlib.pyplot as plt\n",
    "from matplotlib import cm\n",
    "colors = cm.rainbow([i/len(groups) for i in range(len(groups))])\n",
    "for i, group in enumerate(groups):\n",
    "    x = [point.x for point in group.members]\n",
    "    y = [point.y for point in group.members]\n",
    "    plt.scatter(x, y, color=colors[i], label=f\"Group {i+1}\")\n",
    "# plt.legend()\n",
    "plt.show()"
   ]
  },
  {
   "cell_type": "markdown",
   "id": "2291c50d",
   "metadata": {},
   "source": [
    "## 2.5 Optimization of obtained points|"
   ]
  },
  {
   "cell_type": "code",
   "execution_count": null,
   "id": "2ea9c828",
   "metadata": {},
   "outputs": [],
   "source": []
  },
  {
   "cell_type": "markdown",
   "id": "a24cd926",
   "metadata": {},
   "source": [
    "### Voronoi cells using group centroids\n"
   ]
  },
  {
   "cell_type": "code",
   "execution_count": null,
   "id": "4191cb04",
   "metadata": {},
   "outputs": [],
   "source": []
  },
  {
   "cell_type": "markdown",
   "id": "48643d2f",
   "metadata": {},
   "source": [
    "### Voronoi cells using group centroids and points"
   ]
  },
  {
   "cell_type": "code",
   "execution_count": null,
   "id": "908f5d35",
   "metadata": {},
   "outputs": [],
   "source": []
  }
 ],
 "metadata": {
  "kernelspec": {
   "display_name": "Python 3 (ipykernel)",
   "language": "python",
   "name": "python3"
  },
  "language_info": {
   "codemirror_mode": {
    "name": "ipython",
    "version": 3
   },
   "file_extension": ".py",
   "mimetype": "text/x-python",
   "name": "python",
   "nbconvert_exporter": "python",
   "pygments_lexer": "ipython3",
   "version": "3.10.9"
  }
 },
 "nbformat": 4,
 "nbformat_minor": 5
}
